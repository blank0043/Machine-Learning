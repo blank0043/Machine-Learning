{
  "cells": [
    {
      "cell_type": "markdown",
      "metadata": {
        "id": "view-in-github",
        "colab_type": "text"
      },
      "source": [
        "<a href=\"https://colab.research.google.com/github/blank0043/Machine-Learning/blob/main/project_10_Logistic_Regression.ipynb\" target=\"_parent\"><img src=\"https://colab.research.google.com/assets/colab-badge.svg\" alt=\"Open In Colab\"/></a>"
      ]
    },
    {
      "cell_type": "markdown",
      "metadata": {
        "id": "L8C2IXLuKrkz"
      },
      "source": [
        "# Logistic Regression"
      ]
    },
    {
      "cell_type": "markdown",
      "metadata": {
        "id": "1vZZZIHwKrlC"
      },
      "source": [
        "<a id=\"using-logistic-regression-for-classification\"></a>\n",
        "## Using Logistic Regression for Classification\n",
        "---\n",
        "\n",
        "Logistic regression is a more appropriate method for what we just did with a linear regression. The values output from a linear regression cannot be interpreted as probabilities of class membership since their values can be greater than 1 and less than 0. Logistic regression, on the other hand, ensures that the values output as predictions can be interpreted as probabilities of class membership.\n",
        "\n",
        "**Import the `LogisticRegression` class from `linear_model` below and fit the same regression model predicting `household` from `al`.**"
      ]
    },
    {
      "cell_type": "code",
      "execution_count": null,
      "metadata": {
        "id": "Rx9xbdVwKrlC"
      },
      "outputs": [],
      "source": [
        "# Fit a logistic regression model and store the class predictions.\n",
        "from sklearn.linear_model import LogisticRegression\n",
        "\n",
        "logreg = LogisticRegression()\n",
        "\n",
        "feature_cols = ['al']\n",
        "X = glass[feature_cols]\n",
        "y = glass.household\n",
        "\n",
        "logreg.fit(X,y)\n",
        "pred = logreg.predict(X)"
      ]
    },
    {
      "cell_type": "markdown",
      "metadata": {
        "id": "mD9xwUpfKrlC"
      },
      "source": [
        "**Plot the predicted class using the logistic regression as we did for the linear regression predictions above.**\n",
        "\n",
        "As you can see, the class predictions are the same."
      ]
    },
    {
      "cell_type": "code",
      "execution_count": null,
      "metadata": {
        "id": "LX3Tz7g0KrlC",
        "outputId": "a69e481c-8720-4b0e-dcb6-5b60dd6737e4",
        "colab": {
          "base_uri": "https://localhost:8080/",
          "height": 315
        }
      },
      "outputs": [
        {
          "output_type": "execute_result",
          "data": {
            "text/plain": [
              "Text(0, 0.5, 'household')"
            ]
          },
          "metadata": {},
          "execution_count": 26
        },
        {
          "output_type": "display_data",
          "data": {
            "image/png": "[encoded data removed]",
            "text/plain": [
              "<Figure size 432x288 with 1 Axes>"
            ]
          },
          "metadata": {}
        }
      ],
      "source": [
        "# Plot the class predictions.\n",
        "plt.scatter(glass.al, glass.household)\n",
        "plt.plot(glass.al, pred, color='red')\n",
        "plt.xlabel('al')\n",
        "plt.ylabel('household')"
      ]
    },
    {
      "cell_type": "markdown",
      "metadata": {
        "id": "Kh1n6_lVKrlC"
      },
      "source": [
        "What if we wanted the predicted probabilities instead of just the class predictions, to understand how confident we are in a given prediction?\n",
        "\n",
        "**Using the built-in `.predict_proba()` function, examine the predicted probabilities for the first handful of rows of `X`.**"
      ]
    },
    {
      "cell_type": "code",
      "execution_count": null,
      "metadata": {
        "id": "IMxOc4ElKrlC",
        "outputId": "f311900b-391b-48b3-da20-d3f8b1882efe",
        "colab": {
          "base_uri": "https://localhost:8080/"
        }
      },
      "outputs": [
        {
          "output_type": "execute_result",
          "data": {
            "text/plain": [
              "array([[0.9939759 , 0.0060241 ],\n",
              "       [0.99296771, 0.00703229],\n",
              "       [0.98949363, 0.01050637],\n",
              "       [0.98949363, 0.01050637],\n",
              "       [0.98811597, 0.01188403],\n",
              "       [0.98614074, 0.01385926],\n",
              "       [0.98614074, 0.01385926],\n",
              "       [0.98526292, 0.01473708],\n",
              "       [0.9817376 , 0.0182624 ],\n",
              "       [0.98117062, 0.01882938]])"
            ]
          },
          "metadata": {},
          "execution_count": 28
        }
      ],
      "source": [
        "logreg.predict_proba(X)[0:10]"
      ]
    },
    {
      "cell_type": "markdown",
      "metadata": {
        "id": "jTBm50JEKrlC"
      },
      "source": [
        "Sklearn orders the columns according to our class labels. The two-column output of `predict_proba` returns a column for each class of our `household` variable. The first column is the probability of `household=0` for a given row, and the second column is the probability of `household=1`.\n",
        "\n",
        "**Store the predicted probabilities of class=1 in its own column in the data set.**"
      ]
    },
    {
      "cell_type": "code",
      "execution_count": null,
      "metadata": {
        "id": "eanPf0jbKrlD"
      },
      "outputs": [],
      "source": [
        "# Store the predicted probabilities of class 1.\n",
        "glass['household_pred_prob'] = logreg.predict_proba(X)[:, 1]"
      ]
    },
    {
      "cell_type": "code",
      "execution_count": null,
      "metadata": {
        "id": "-1k1OF3BKrlD",
        "outputId": "4eced226-3979-4e64-955e-5a7dab569a03",
        "colab": {
          "base_uri": "https://localhost:8080/",
          "height": 206
        }
      },
      "outputs": [
        {
          "output_type": "execute_result",
          "data": {
            "text/html": [
              "\n",
              "  <div id=\"df-3f8bc1b9-8b63-4593-84c4-476985cfcc01\">\n",
              "    <div class=\"colab-df-container\">\n",
              "      <div>\n",
              "<style scoped>\n",
              "    .dataframe tbody tr th:only-of-type {\n",
              "        vertical-align: middle;\n",
              "    }\n",
              "\n",
              "    .dataframe tbody tr th {\n",
              "        vertical-align: top;\n",
              "    }\n",
              "\n",
              "    .dataframe thead th {\n",
              "        text-align: right;\n",
              "    }\n",
              "</style>\n",
              "<table border=\"1\" class=\"dataframe\">\n",
              "  <thead>\n",
              "    <tr style=\"text-align: right;\">\n",
              "      <th></th>\n",
              "      <th>ri</th>\n",
              "      <th>na</th>\n",
              "      <th>mg</th>\n",
              "      <th>al</th>\n",
              "      <th>si</th>\n",
              "      <th>k</th>\n",
              "      <th>ca</th>\n",
              "      <th>ba</th>\n",
              "      <th>fe</th>\n",
              "      <th>glass_type</th>\n",
              "      <th>y_pred</th>\n",
              "      <th>household</th>\n",
              "      <th>household_pred</th>\n",
              "      <th>household_pred_class</th>\n",
              "      <th>household_pred_prob</th>\n",
              "    </tr>\n",
              "  </thead>\n",
              "  <tbody>\n",
              "    <tr>\n",
              "      <th>21</th>\n",
              "      <td>1.51966</td>\n",
              "      <td>14.77</td>\n",
              "      <td>3.75</td>\n",
              "      <td>0.29</td>\n",
              "      <td>72.02</td>\n",
              "      <td>0.03</td>\n",
              "      <td>9.00</td>\n",
              "      <td>0.0</td>\n",
              "      <td>0.00</td>\n",
              "      <td>1</td>\n",
              "      <td>1.521227</td>\n",
              "      <td>0</td>\n",
              "      <td>-0.340495</td>\n",
              "      <td>0</td>\n",
              "      <td>0.006024</td>\n",
              "    </tr>\n",
              "    <tr>\n",
              "      <th>184</th>\n",
              "      <td>1.51115</td>\n",
              "      <td>17.38</td>\n",
              "      <td>0.00</td>\n",
              "      <td>0.34</td>\n",
              "      <td>75.41</td>\n",
              "      <td>0.00</td>\n",
              "      <td>6.65</td>\n",
              "      <td>0.0</td>\n",
              "      <td>0.00</td>\n",
              "      <td>6</td>\n",
              "      <td>1.521103</td>\n",
              "      <td>1</td>\n",
              "      <td>-0.315436</td>\n",
              "      <td>0</td>\n",
              "      <td>0.007032</td>\n",
              "    </tr>\n",
              "    <tr>\n",
              "      <th>39</th>\n",
              "      <td>1.52213</td>\n",
              "      <td>14.21</td>\n",
              "      <td>3.82</td>\n",
              "      <td>0.47</td>\n",
              "      <td>71.77</td>\n",
              "      <td>0.11</td>\n",
              "      <td>9.57</td>\n",
              "      <td>0.0</td>\n",
              "      <td>0.00</td>\n",
              "      <td>1</td>\n",
              "      <td>1.520781</td>\n",
              "      <td>0</td>\n",
              "      <td>-0.250283</td>\n",
              "      <td>0</td>\n",
              "      <td>0.010506</td>\n",
              "    </tr>\n",
              "    <tr>\n",
              "      <th>38</th>\n",
              "      <td>1.52213</td>\n",
              "      <td>14.21</td>\n",
              "      <td>3.82</td>\n",
              "      <td>0.47</td>\n",
              "      <td>71.77</td>\n",
              "      <td>0.11</td>\n",
              "      <td>9.57</td>\n",
              "      <td>0.0</td>\n",
              "      <td>0.00</td>\n",
              "      <td>1</td>\n",
              "      <td>1.520781</td>\n",
              "      <td>0</td>\n",
              "      <td>-0.250283</td>\n",
              "      <td>0</td>\n",
              "      <td>0.010506</td>\n",
              "    </tr>\n",
              "    <tr>\n",
              "      <th>50</th>\n",
              "      <td>1.52320</td>\n",
              "      <td>13.72</td>\n",
              "      <td>3.72</td>\n",
              "      <td>0.51</td>\n",
              "      <td>71.75</td>\n",
              "      <td>0.09</td>\n",
              "      <td>10.06</td>\n",
              "      <td>0.0</td>\n",
              "      <td>0.16</td>\n",
              "      <td>1</td>\n",
              "      <td>1.520682</td>\n",
              "      <td>0</td>\n",
              "      <td>-0.230236</td>\n",
              "      <td>0</td>\n",
              "      <td>0.011884</td>\n",
              "    </tr>\n",
              "  </tbody>\n",
              "</table>\n",
              "</div>\n",
              "      <button class=\"colab-df-convert\" onclick=\"convertToInteractive('df-3f8bc1b9-8b63-4593-84c4-476985cfcc01')\"\n",
              "              title=\"Convert this dataframe to an interactive table.\"\n",
              "              style=\"display:none;\">\n",
              "        \n",
              "  <svg xmlns=\"http://www.w3.org/2000/svg\" height=\"24px\"viewBox=\"0 0 24 24\"\n",
              "       width=\"24px\">\n",
              "    <path d=\"M0 0h24v24H0V0z\" fill=\"none\"/>\n",
              "    <path d=\"M18.56 5.44l.94 2.06.94-2.06 2.06-.94-2.06-.94-.94-2.06-.94 2.06-2.06.94zm-11 1L8.5 8.5l.94-2.06 2.06-.94-2.06-.94L8.5 2.5l-.94 2.06-2.06.94zm10 10l.94 2.06.94-2.06 2.06-.94-2.06-.94-.94-2.06-.94 2.06-2.06.94z\"/><path d=\"M17.41 7.96l-1.37-1.37c-.4-.4-.92-.59-1.43-.59-.52 0-1.04.2-1.43.59L10.3 9.45l-7.72 7.72c-.78.78-.78 2.05 0 2.83L4 21.41c.39.39.9.59 1.41.59.51 0 1.02-.2 1.41-.59l7.78-7.78 2.81-2.81c.8-.78.8-2.07 0-2.86zM5.41 20L4 18.59l7.72-7.72 1.47 1.35L5.41 20z\"/>\n",
              "  </svg>\n",
              "      </button>\n",
              "      \n",
              "  <style>\n",
              "    .colab-df-container {\n",
              "      display:flex;\n",
              "      flex-wrap:wrap;\n",
              "      gap: 12px;\n",
              "    }\n",
              "\n",
              "    .colab-df-convert {\n",
              "      background-color: #E8F0FE;\n",
              "      border: none;\n",
              "      border-radius: 50%;\n",
              "      cursor: pointer;\n",
              "      display: none;\n",
              "      fill: #1967D2;\n",
              "      height: 32px;\n",
              "      padding: 0 0 0 0;\n",
              "      width: 32px;\n",
              "    }\n",
              "\n",
              "    .colab-df-convert:hover {\n",
              "      background-color: #E2EBFA;\n",
              "      box-shadow: 0px 1px 2px rgba(60, 64, 67, 0.3), 0px 1px 3px 1px rgba(60, 64, 67, 0.15);\n",
              "      fill: #174EA6;\n",
              "    }\n",
              "\n",
              "    [theme=dark] .colab-df-convert {\n",
              "      background-color: #3B4455;\n",
              "      fill: #D2E3FC;\n",
              "    }\n",
              "\n",
              "    [theme=dark] .colab-df-convert:hover {\n",
              "      background-color: #434B5C;\n",
              "      box-shadow: 0px 1px 3px 1px rgba(0, 0, 0, 0.15);\n",
              "      filter: drop-shadow(0px 1px 2px rgba(0, 0, 0, 0.3));\n",
              "      fill: #FFFFFF;\n",
              "    }\n",
              "  </style>\n",
              "\n",
              "      <script>\n",
              "        const buttonEl =\n",
              "          document.querySelector('#df-3f8bc1b9-8b63-4593-84c4-476985cfcc01 button.colab-df-convert');\n",
              "        buttonEl.style.display =\n",
              "          google.colab.kernel.accessAllowed ? 'block' : 'none';\n",
              "\n",
              "        async function convertToInteractive(key) {\n",
              "          const element = document.querySelector('#df-3f8bc1b9-8b63-4593-84c4-476985cfcc01');\n",
              "          const dataTable =\n",
              "            await google.colab.kernel.invokeFunction('convertToInteractive',\n",
              "                                                     [key], {});\n",
              "          if (!dataTable) return;\n",
              "\n",
              "          const docLinkHtml = 'Like what you see? Visit the ' +\n",
              "            '<a target=\"_blank\" href=https://colab.research.google.com/notebooks/data_table.ipynb>data table notebook</a>'\n",
              "            + ' to learn more about interactive tables.';\n",
              "          element.innerHTML = '';\n",
              "          dataTable['output_type'] = 'display_data';\n",
              "          await google.colab.output.renderOutput(dataTable, element);\n",
              "          const docLink = document.createElement('div');\n",
              "          docLink.innerHTML = docLinkHtml;\n",
              "          element.appendChild(docLink);\n",
              "        }\n",
              "      </script>\n",
              "    </div>\n",
              "  </div>\n",
              "  "
            ],
            "text/plain": [
              "          ri     na  ...  household_pred_class  household_pred_prob\n",
              "21   1.51966  14.77  ...                     0             0.006024\n",
              "184  1.51115  17.38  ...                     0             0.007032\n",
              "39   1.52213  14.21  ...                     0             0.010506\n",
              "38   1.52213  14.21  ...                     0             0.010506\n",
              "50   1.52320  13.72  ...                     0             0.011884\n",
              "\n",
              "[5 rows x 15 columns]"
            ]
          },
          "metadata": {},
          "execution_count": 30
        }
      ],
      "source": [
        "glass.head()"
      ]
    },
    {
      "cell_type": "markdown",
      "metadata": {
        "id": "d7_fTE4SKrlD"
      },
      "source": [
        "**Plot the predicted probabilities as a line on our plot (probability of `household=1` as `al` changes).**"
      ]
    },
    {
      "cell_type": "code",
      "execution_count": null,
      "metadata": {
        "id": "JH2DZZR9KrlD",
        "outputId": "f32b7e5f-bd8f-4bce-a194-bbc15a896975",
        "colab": {
          "base_uri": "https://localhost:8080/",
          "height": 315
        }
      },
      "outputs": [
        {
          "output_type": "execute_result",
          "data": {
            "text/plain": [
              "Text(0, 0.5, 'household')"
            ]
          },
          "metadata": {},
          "execution_count": 31
        },
        {
          "output_type": "display_data",
          "data": {
            "image/png": "[encoded data removed]",
            "text/plain": [
              "<Figure size 432x288 with 1 Axes>"
            ]
          },
          "metadata": {}
        }
      ],
      "source": [
        "# Plot the predicted probabilities.\n",
        "plt.scatter(glass.al, glass.household)\n",
        "plt.plot(glass.al, glass.household_pred_prob, color='red')\n",
        "plt.xlabel('al')\n",
        "plt.ylabel('household')"
      ]
    },
    {
      "cell_type": "code",
      "execution_count": null,
      "metadata": {
        "id": "JTkO_g3TKrlD",
        "outputId": "4ab960c7-3719-4ecb-80f8-8227c62f6eaa",
        "colab": {
          "base_uri": "https://localhost:8080/"
        }
      },
      "outputs": [
        {
          "output_type": "stream",
          "name": "stdout",
          "text": [
            "[[0.94755733 0.05244267]]\n",
            "[[0.4449707 0.5550293]]\n",
            "[[0.03435025 0.96564975]]\n"
          ]
        },
        {
          "output_type": "stream",
          "name": "stderr",
          "text": [
            "/usr/local/lib/python3.7/dist-packages/sklearn/base.py:451: UserWarning: X does not have valid feature names, but LogisticRegression was fitted with feature names\n",
            "  \"X does not have valid feature names, but\"\n",
            "/usr/local/lib/python3.7/dist-packages/sklearn/base.py:451: UserWarning: X does not have valid feature names, but LogisticRegression was fitted with feature names\n",
            "  \"X does not have valid feature names, but\"\n",
            "/usr/local/lib/python3.7/dist-packages/sklearn/base.py:451: UserWarning: X does not have valid feature names, but LogisticRegression was fitted with feature names\n",
            "  \"X does not have valid feature names, but\"\n"
          ]
        }
      ],
      "source": [
        "# Examine some example predictions.\n",
        "print(logreg.predict_proba([[1]]))\n",
        "print(logreg.predict_proba([[2]]))\n",
        "print(logreg.predict_proba([[3]]))"
      ]
    },
    {
      "cell_type": "markdown",
      "metadata": {
        "id": "ZQWF2e8MKrlD"
      },
      "source": [
        "### Exercise 1:\n",
        "\n",
        "- Build and train a logistic regression model.\n",
        "- Select 2 features for you X\n",
        "- y will remain the same `glass.household`\n",
        "- Evaluate the model with `model.score` on the testing data."
      ]
    },
    {
      "cell_type": "code",
      "execution_count": null,
      "metadata": {
        "id": "j10eUH3XKrlD"
      },
      "outputs": [],
      "source": [
        "# A:\n",
        "lr = LogisticRegression()\n",
        "X = glass[['na', 'ba']]\n",
        "y = glass.household\n",
        "\n",
        "from sklearn.model_selection import train_test_split\n",
        "\n",
        "X_train, X_test, y_train, y_test = train_test_split(X, y)\n",
        "lr.fit(X_train, y_train)\n",
        "y_pred = lr.predict(X_test)"
      ]
    },
    {
      "cell_type": "code",
      "execution_count": null,
      "metadata": {
        "id": "zbdIOrQNKrlD",
        "outputId": "d856a288-a106-41aa-a55f-0625e8fb8ea8",
        "colab": {
          "base_uri": "https://localhost:8080/"
        }
      },
      "outputs": [
        {
          "output_type": "execute_result",
          "data": {
            "text/plain": [
              "array([0, 0, 0, 0, 0, 0, 0, 0, 0, 0, 1, 0, 1, 0, 0, 0, 0, 0, 0, 0, 0, 0,\n",
              "       0, 1, 1, 0, 0, 0, 0, 0, 0, 0, 0, 0, 1, 0, 0, 0, 0, 0, 1, 0, 0, 0,\n",
              "       1, 0, 0, 0, 0, 0, 0, 0, 0, 0])"
            ]
          },
          "metadata": {},
          "execution_count": 34
        }
      ],
      "source": [
        "y_pred"
      ]
    },
    {
      "cell_type": "code",
      "execution_count": null,
      "metadata": {
        "id": "4xsmV3bGKrlD",
        "outputId": "2c2fbf64-83c6-45b4-a3e2-c0c2e07e0e3a",
        "colab": {
          "base_uri": "https://localhost:8080/"
        }
      },
      "outputs": [
        {
          "output_type": "execute_result",
          "data": {
            "text/plain": [
              "0.8888888888888888"
            ]
          },
          "metadata": {},
          "execution_count": 35
        }
      ],
      "source": [
        "lr.score(X_test, y_test)"
      ]
    },
    {
      "cell_type": "markdown",
      "metadata": {
        "id": "VliWoJENKrlE"
      },
      "source": [
        "<a id=\"probability-odds-e-log-and-log-odds\"></a>\n",
        "## Probability, e, Log, and Log Odds\n",
        "---\n",
        "\n",
        "To understand how logistic regression predicts the probability of class membership we need to start by understanding the relationship between probability, odds ratios, and log odds ratios. This is because logistic regression predicts log odds and so reading log odds is extremely useful for interpreting logistic regression.\n",
        "\n",
        "$$probability = \\frac {one\\ outcome} {all\\ outcomes}$$\n",
        "\n",
        "$$odds = \\frac {one\\ outcome} {all\\ other\\ outcomes}$$\n",
        "\n",
        "It is often useful to think of the numeric odds as a ratio. For example, 5/1 = 5 odds is \"5 to 1\" -- five wins for every one loss (e.g. of six total plays). 2/3 odds means \"2 to 3\" -- two wins for every three losses (e.g. of five total plays).\n",
        "\n",
        "Examples:\n",
        "\n",
        "- Dice roll of 1: probability = 1/6, odds = 1/5\n",
        "- Even dice roll: probability = 3/6, odds = 3/3 = 1\n",
        "- Dice roll less than 5: probability = 4/6, odds = 4/2 = 2\n",
        "\n",
        "$$odds = \\frac {probability} {1 - probability}$$\n",
        "\n",
        "$$probability = \\frac {odds} {1 + odds}$$"
      ]
    },
    {
      "cell_type": "markdown",
      "metadata": {
        "id": "AqPeW-93KrlE"
      },
      "source": [
        "**As an example we can create a table of probabilities vs. odds, as seen below.**"
      ]
    },
    {
      "cell_type": "code",
      "execution_count": null,
      "metadata": {
        "id": "Eggu1bJ9KrlE",
        "outputId": "a4be83e3-44b6-40d3-a43f-b0095fdd1be1",
        "colab": {
          "base_uri": "https://localhost:8080/",
          "height": 269
        }
      },
      "outputs": [
        {
          "output_type": "execute_result",
          "data": {
            "text/html": [
              "\n",
              "  <div id=\"df-bb0236bc-cf4d-435d-a608-2cbbddb478b5\">\n",
              "    <div class=\"colab-df-container\">\n",
              "      <div>\n",
              "<style scoped>\n",
              "    .dataframe tbody tr th:only-of-type {\n",
              "        vertical-align: middle;\n",
              "    }\n",
              "\n",
              "    .dataframe tbody tr th {\n",
              "        vertical-align: top;\n",
              "    }\n",
              "\n",
              "    .dataframe thead th {\n",
              "        text-align: right;\n",
              "    }\n",
              "</style>\n",
              "<table border=\"1\" class=\"dataframe\">\n",
              "  <thead>\n",
              "    <tr style=\"text-align: right;\">\n",
              "      <th></th>\n",
              "      <th>probability</th>\n",
              "      <th>odds</th>\n",
              "    </tr>\n",
              "  </thead>\n",
              "  <tbody>\n",
              "    <tr>\n",
              "      <th>0</th>\n",
              "      <td>0.10</td>\n",
              "      <td>0.111111</td>\n",
              "    </tr>\n",
              "    <tr>\n",
              "      <th>1</th>\n",
              "      <td>0.20</td>\n",
              "      <td>0.250000</td>\n",
              "    </tr>\n",
              "    <tr>\n",
              "      <th>2</th>\n",
              "      <td>0.25</td>\n",
              "      <td>0.333333</td>\n",
              "    </tr>\n",
              "    <tr>\n",
              "      <th>3</th>\n",
              "      <td>0.50</td>\n",
              "      <td>1.000000</td>\n",
              "    </tr>\n",
              "    <tr>\n",
              "      <th>4</th>\n",
              "      <td>0.60</td>\n",
              "      <td>1.500000</td>\n",
              "    </tr>\n",
              "    <tr>\n",
              "      <th>5</th>\n",
              "      <td>0.80</td>\n",
              "      <td>4.000000</td>\n",
              "    </tr>\n",
              "    <tr>\n",
              "      <th>6</th>\n",
              "      <td>0.90</td>\n",
              "      <td>9.000000</td>\n",
              "    </tr>\n",
              "  </tbody>\n",
              "</table>\n",
              "</div>\n",
              "      <button class=\"colab-df-convert\" onclick=\"convertToInteractive('df-bb0236bc-cf4d-435d-a608-2cbbddb478b5')\"\n",
              "              title=\"Convert this dataframe to an interactive table.\"\n",
              "              style=\"display:none;\">\n",
              "        \n",
              "  <svg xmlns=\"http://www.w3.org/2000/svg\" height=\"24px\"viewBox=\"0 0 24 24\"\n",
              "       width=\"24px\">\n",
              "    <path d=\"M0 0h24v24H0V0z\" fill=\"none\"/>\n",
              "    <path d=\"M18.56 5.44l.94 2.06.94-2.06 2.06-.94-2.06-.94-.94-2.06-.94 2.06-2.06.94zm-11 1L8.5 8.5l.94-2.06 2.06-.94-2.06-.94L8.5 2.5l-.94 2.06-2.06.94zm10 10l.94 2.06.94-2.06 2.06-.94-2.06-.94-.94-2.06-.94 2.06-2.06.94z\"/><path d=\"M17.41 7.96l-1.37-1.37c-.4-.4-.92-.59-1.43-.59-.52 0-1.04.2-1.43.59L10.3 9.45l-7.72 7.72c-.78.78-.78 2.05 0 2.83L4 21.41c.39.39.9.59 1.41.59.51 0 1.02-.2 1.41-.59l7.78-7.78 2.81-2.81c.8-.78.8-2.07 0-2.86zM5.41 20L4 18.59l7.72-7.72 1.47 1.35L5.41 20z\"/>\n",
              "  </svg>\n",
              "      </button>\n",
              "      \n",
              "  <style>\n",
              "    .colab-df-container {\n",
              "      display:flex;\n",
              "      flex-wrap:wrap;\n",
              "      gap: 12px;\n",
              "    }\n",
              "\n",
              "    .colab-df-convert {\n",
              "      background-color: #E8F0FE;\n",
              "      border: none;\n",
              "      border-radius: 50%;\n",
              "      cursor: pointer;\n",
              "      display: none;\n",
              "      fill: #1967D2;\n",
              "      height: 32px;\n",
              "      padding: 0 0 0 0;\n",
              "      width: 32px;\n",
              "    }\n",
              "\n",
              "    .colab-df-convert:hover {\n",
              "      background-color: #E2EBFA;\n",
              "      box-shadow: 0px 1px 2px rgba(60, 64, 67, 0.3), 0px 1px 3px 1px rgba(60, 64, 67, 0.15);\n",
              "      fill: #174EA6;\n",
              "    }\n",
              "\n",
              "    [theme=dark] .colab-df-convert {\n",
              "      background-color: #3B4455;\n",
              "      fill: #D2E3FC;\n",
              "    }\n",
              "\n",
              "    [theme=dark] .colab-df-convert:hover {\n",
              "      background-color: #434B5C;\n",
              "      box-shadow: 0px 1px 3px 1px rgba(0, 0, 0, 0.15);\n",
              "      filter: drop-shadow(0px 1px 2px rgba(0, 0, 0, 0.3));\n",
              "      fill: #FFFFFF;\n",
              "    }\n",
              "  </style>\n",
              "\n",
              "      <script>\n",
              "        const buttonEl =\n",
              "          document.querySelector('#df-bb0236bc-cf4d-435d-a608-2cbbddb478b5 button.colab-df-convert');\n",
              "        buttonEl.style.display =\n",
              "          google.colab.kernel.accessAllowed ? 'block' : 'none';\n",
              "\n",
              "        async function convertToInteractive(key) {\n",
              "          const element = document.querySelector('#df-bb0236bc-cf4d-435d-a608-2cbbddb478b5');\n",
              "          const dataTable =\n",
              "            await google.colab.kernel.invokeFunction('convertToInteractive',\n",
              "                                                     [key], {});\n",
              "          if (!dataTable) return;\n",
              "\n",
              "          const docLinkHtml = 'Like what you see? Visit the ' +\n",
              "            '<a target=\"_blank\" href=https://colab.research.google.com/notebooks/data_table.ipynb>data table notebook</a>'\n",
              "            + ' to learn more about interactive tables.';\n",
              "          element.innerHTML = '';\n",
              "          dataTable['output_type'] = 'display_data';\n",
              "          await google.colab.output.renderOutput(dataTable, element);\n",
              "          const docLink = document.createElement('div');\n",
              "          docLink.innerHTML = docLinkHtml;\n",
              "          element.appendChild(docLink);\n",
              "        }\n",
              "      </script>\n",
              "    </div>\n",
              "  </div>\n",
              "  "
            ],
            "text/plain": [
              "   probability      odds\n",
              "0         0.10  0.111111\n",
              "1         0.20  0.250000\n",
              "2         0.25  0.333333\n",
              "3         0.50  1.000000\n",
              "4         0.60  1.500000\n",
              "5         0.80  4.000000\n",
              "6         0.90  9.000000"
            ]
          },
          "metadata": {},
          "execution_count": 36
        }
      ],
      "source": [
        "# Create a table of probability versus odds.\n",
        "table = pd.DataFrame({'probability':[0.1, 0.2, 0.25, 0.5, 0.6, 0.8, 0.9]})\n",
        "table['odds'] = table.probability / (1 - table.probability)\n",
        "table"
      ]
    },
    {
      "cell_type": "markdown",
      "metadata": {
        "id": "5pB1oJc7KrlE"
      },
      "source": [
        "<a id=\"understanding-e-and-the-natural-logarithm\"></a>\n",
        "### Understanding e and the Natural Logarithm\n",
        "\n",
        "What is e? It is the base rate of growth shared by all continually growing processes:\n",
        "\n",
        "e is the irrational base of the natural log `ln`.\n",
        "\n",
        "- 2.718281828459"
      ]
    },
    {
      "cell_type": "code",
      "execution_count": null,
      "metadata": {
        "id": "AE54MQIyKrlE",
        "outputId": "e335a8be-b7d9-4b64-a9c6-3f887775cfa1",
        "colab": {
          "base_uri": "https://localhost:8080/"
        }
      },
      "outputs": [
        {
          "output_type": "execute_result",
          "data": {
            "text/plain": [
              "2.718281828459045"
            ]
          },
          "metadata": {},
          "execution_count": 37
        }
      ],
      "source": [
        "# Exponential function: e^1\n",
        "e = np.exp(1)\n",
        "e"
      ]
    },
    {
      "cell_type": "markdown",
      "metadata": {
        "id": "0GxWpL6SKrlE"
      },
      "source": [
        "What is a (natural) log? It gives you the time needed to reach a certain level of growth:"
      ]
    },
    {
      "cell_type": "code",
      "execution_count": null,
      "metadata": {
        "id": "pf2kLPNfKrlE",
        "outputId": "0c996ff5-cb27-43c7-8537-7860de8c68fc",
        "colab": {
          "base_uri": "https://localhost:8080/"
        }
      },
      "outputs": [
        {
          "output_type": "execute_result",
          "data": {
            "text/plain": [
              "0.9999999999999832"
            ]
          },
          "metadata": {},
          "execution_count": 38
        }
      ],
      "source": [
        "# Time needed to grow 1 unit to 2.718 units\n",
        "# ln e = 1\n",
        "np.log(2.718281828459) # very close to previous value"
      ]
    },
    {
      "cell_type": "code",
      "execution_count": null,
      "metadata": {
        "id": "IQNyt5TPKrlE",
        "outputId": "8730e391-5024-4ae7-b8ad-1c6d22e58258",
        "colab": {
          "base_uri": "https://localhost:8080/"
        }
      },
      "outputs": [
        {
          "output_type": "execute_result",
          "data": {
            "text/plain": [
              "1.0"
            ]
          },
          "metadata": {},
          "execution_count": 39
        }
      ],
      "source": [
        "np.log(e)"
      ]
    },
    {
      "cell_type": "markdown",
      "metadata": {
        "id": "Z8phdRLrKrlF"
      },
      "source": [
        "It is also the inverse of the exponential function:"
      ]
    },
    {
      "cell_type": "code",
      "execution_count": null,
      "metadata": {
        "id": "D7FmujarKrlH",
        "outputId": "68188bb2-b319-4299-b0f1-4a2641329257",
        "colab": {
          "base_uri": "https://localhost:8080/"
        }
      },
      "outputs": [
        {
          "output_type": "execute_result",
          "data": {
            "text/plain": [
              "148.4131591025766"
            ]
          },
          "metadata": {},
          "execution_count": 40
        }
      ],
      "source": [
        "# e^5\n",
        "np.exp(5)"
      ]
    },
    {
      "cell_type": "code",
      "execution_count": null,
      "metadata": {
        "id": "LrAFIim2KrlI",
        "outputId": "bee072ad-57d4-4ca9-d34d-4cb844f91de6",
        "colab": {
          "base_uri": "https://localhost:8080/"
        }
      },
      "outputs": [
        {
          "output_type": "execute_result",
          "data": {
            "text/plain": [
              "148.41315133352072"
            ]
          },
          "metadata": {},
          "execution_count": 41
        }
      ],
      "source": [
        "# np.exp(5)\n",
        "2.7182818**5"
      ]
    },
    {
      "cell_type": "code",
      "execution_count": null,
      "metadata": {
        "id": "Tgo8vOCpKrlI",
        "outputId": "4b4e514a-b967-4315-9d28-f06b44270af7",
        "colab": {
          "base_uri": "https://localhost:8080/"
        }
      },
      "outputs": [
        {
          "output_type": "execute_result",
          "data": {
            "text/plain": [
              "5.0"
            ]
          },
          "metadata": {},
          "execution_count": 42
        }
      ],
      "source": [
        "# Taking the log of the exponential returns back to original input\n",
        "np.log(np.exp(5))"
      ]
    },
    {
      "cell_type": "markdown",
      "metadata": {
        "id": "AQQYx9CeKrlI"
      },
      "source": [
        "Lets take one of our odds from out table and walk through how it works."
      ]
    },
    {
      "cell_type": "code",
      "execution_count": null,
      "metadata": {
        "id": "Yd__2eiHKrlI",
        "outputId": "a7a050be-7577-4627-822b-598bcef55126",
        "colab": {
          "base_uri": "https://localhost:8080/"
        }
      },
      "outputs": [
        {
          "output_type": "execute_result",
          "data": {
            "text/plain": [
              "-1.3862943611198906"
            ]
          },
          "metadata": {},
          "execution_count": 43
        }
      ],
      "source": [
        "# Odds = 0.25\n",
        "# ln 0.25 = -1.38629436\n",
        "np.log(0.25)"
      ]
    },
    {
      "cell_type": "code",
      "execution_count": null,
      "metadata": {
        "id": "avFfCDDnKrlJ",
        "outputId": "d723c0fe-8af3-4c7a-b9ee-bfcaa0abd1eb",
        "colab": {
          "base_uri": "https://localhost:8080/"
        }
      },
      "outputs": [
        {
          "output_type": "stream",
          "name": "stdout",
          "text": [
            "0.25000000000000006\n",
            "0.25\n"
          ]
        }
      ],
      "source": [
        "print(e**-1.3862943611198906)\n",
        "print(np.exp(-1.3862943611198906))"
      ]
    },
    {
      "cell_type": "markdown",
      "metadata": {
        "id": "0dUhD8FiKrlJ"
      },
      "source": [
        "<a id=\"the-log-odds\"></a>\n",
        "\n",
        "When we take the logarithm of the odds, we get what is known as the **log odds**. This may seem like an arbitrary transformation, but it has an important property: The log odds has the range $[-\\infty, \\infty]$. This is not true for the odds ratio, which can never be a negative number."
      ]
    },
    {
      "cell_type": "code",
      "execution_count": null,
      "metadata": {
        "id": "TFBCn9WoKrlJ",
        "outputId": "abc58c9f-d08d-4031-ca3e-0fecaa8bf11b",
        "colab": {
          "base_uri": "https://localhost:8080/",
          "height": 269
        }
      },
      "outputs": [
        {
          "output_type": "execute_result",
          "data": {
            "text/html": [
              "\n",
              "  <div id=\"df-5f193ad0-c7c2-4388-bfda-df2ed05e32c3\">\n",
              "    <div class=\"colab-df-container\">\n",
              "      <div>\n",
              "<style scoped>\n",
              "    .dataframe tbody tr th:only-of-type {\n",
              "        vertical-align: middle;\n",
              "    }\n",
              "\n",
              "    .dataframe tbody tr th {\n",
              "        vertical-align: top;\n",
              "    }\n",
              "\n",
              "    .dataframe thead th {\n",
              "        text-align: right;\n",
              "    }\n",
              "</style>\n",
              "<table border=\"1\" class=\"dataframe\">\n",
              "  <thead>\n",
              "    <tr style=\"text-align: right;\">\n",
              "      <th></th>\n",
              "      <th>probability</th>\n",
              "      <th>odds</th>\n",
              "      <th>logodds</th>\n",
              "    </tr>\n",
              "  </thead>\n",
              "  <tbody>\n",
              "    <tr>\n",
              "      <th>0</th>\n",
              "      <td>0.10</td>\n",
              "      <td>0.111111</td>\n",
              "      <td>-2.197225</td>\n",
              "    </tr>\n",
              "    <tr>\n",
              "      <th>1</th>\n",
              "      <td>0.20</td>\n",
              "      <td>0.250000</td>\n",
              "      <td>-1.386294</td>\n",
              "    </tr>\n",
              "    <tr>\n",
              "      <th>2</th>\n",
              "      <td>0.25</td>\n",
              "      <td>0.333333</td>\n",
              "      <td>-1.098612</td>\n",
              "    </tr>\n",
              "    <tr>\n",
              "      <th>3</th>\n",
              "      <td>0.50</td>\n",
              "      <td>1.000000</td>\n",
              "      <td>0.000000</td>\n",
              "    </tr>\n",
              "    <tr>\n",
              "      <th>4</th>\n",
              "      <td>0.60</td>\n",
              "      <td>1.500000</td>\n",
              "      <td>0.405465</td>\n",
              "    </tr>\n",
              "    <tr>\n",
              "      <th>5</th>\n",
              "      <td>0.80</td>\n",
              "      <td>4.000000</td>\n",
              "      <td>1.386294</td>\n",
              "    </tr>\n",
              "    <tr>\n",
              "      <th>6</th>\n",
              "      <td>0.90</td>\n",
              "      <td>9.000000</td>\n",
              "      <td>2.197225</td>\n",
              "    </tr>\n",
              "  </tbody>\n",
              "</table>\n",
              "</div>\n",
              "      <button class=\"colab-df-convert\" onclick=\"convertToInteractive('df-5f193ad0-c7c2-4388-bfda-df2ed05e32c3')\"\n",
              "              title=\"Convert this dataframe to an interactive table.\"\n",
              "              style=\"display:none;\">\n",
              "        \n",
              "  <svg xmlns=\"http://www.w3.org/2000/svg\" height=\"24px\"viewBox=\"0 0 24 24\"\n",
              "       width=\"24px\">\n",
              "    <path d=\"M0 0h24v24H0V0z\" fill=\"none\"/>\n",
              "    <path d=\"M18.56 5.44l.94 2.06.94-2.06 2.06-.94-2.06-.94-.94-2.06-.94 2.06-2.06.94zm-11 1L8.5 8.5l.94-2.06 2.06-.94-2.06-.94L8.5 2.5l-.94 2.06-2.06.94zm10 10l.94 2.06.94-2.06 2.06-.94-2.06-.94-.94-2.06-.94 2.06-2.06.94z\"/><path d=\"M17.41 7.96l-1.37-1.37c-.4-.4-.92-.59-1.43-.59-.52 0-1.04.2-1.43.59L10.3 9.45l-7.72 7.72c-.78.78-.78 2.05 0 2.83L4 21.41c.39.39.9.59 1.41.59.51 0 1.02-.2 1.41-.59l7.78-7.78 2.81-2.81c.8-.78.8-2.07 0-2.86zM5.41 20L4 18.59l7.72-7.72 1.47 1.35L5.41 20z\"/>\n",
              "  </svg>\n",
              "      </button>\n",
              "      \n",
              "  <style>\n",
              "    .colab-df-container {\n",
              "      display:flex;\n",
              "      flex-wrap:wrap;\n",
              "      gap: 12px;\n",
              "    }\n",
              "\n",
              "    .colab-df-convert {\n",
              "      background-color: #E8F0FE;\n",
              "      border: none;\n",
              "      border-radius: 50%;\n",
              "      cursor: pointer;\n",
              "      display: none;\n",
              "      fill: #1967D2;\n",
              "      height: 32px;\n",
              "      padding: 0 0 0 0;\n",
              "      width: 32px;\n",
              "    }\n",
              "\n",
              "    .colab-df-convert:hover {\n",
              "      background-color: #E2EBFA;\n",
              "      box-shadow: 0px 1px 2px rgba(60, 64, 67, 0.3), 0px 1px 3px 1px rgba(60, 64, 67, 0.15);\n",
              "      fill: #174EA6;\n",
              "    }\n",
              "\n",
              "    [theme=dark] .colab-df-convert {\n",
              "      background-color: #3B4455;\n",
              "      fill: #D2E3FC;\n",
              "    }\n",
              "\n",
              "    [theme=dark] .colab-df-convert:hover {\n",
              "      background-color: #434B5C;\n",
              "      box-shadow: 0px 1px 3px 1px rgba(0, 0, 0, 0.15);\n",
              "      filter: drop-shadow(0px 1px 2px rgba(0, 0, 0, 0.3));\n",
              "      fill: #FFFFFF;\n",
              "    }\n",
              "  </style>\n",
              "\n",
              "      <script>\n",
              "        const buttonEl =\n",
              "          document.querySelector('#df-5f193ad0-c7c2-4388-bfda-df2ed05e32c3 button.colab-df-convert');\n",
              "        buttonEl.style.display =\n",
              "          google.colab.kernel.accessAllowed ? 'block' : 'none';\n",
              "\n",
              "        async function convertToInteractive(key) {\n",
              "          const element = document.querySelector('#df-5f193ad0-c7c2-4388-bfda-df2ed05e32c3');\n",
              "          const dataTable =\n",
              "            await google.colab.kernel.invokeFunction('convertToInteractive',\n",
              "                                                     [key], {});\n",
              "          if (!dataTable) return;\n",
              "\n",
              "          const docLinkHtml = 'Like what you see? Visit the ' +\n",
              "            '<a target=\"_blank\" href=https://colab.research.google.com/notebooks/data_table.ipynb>data table notebook</a>'\n",
              "            + ' to learn more about interactive tables.';\n",
              "          element.innerHTML = '';\n",
              "          dataTable['output_type'] = 'display_data';\n",
              "          await google.colab.output.renderOutput(dataTable, element);\n",
              "          const docLink = document.createElement('div');\n",
              "          docLink.innerHTML = docLinkHtml;\n",
              "          element.appendChild(docLink);\n",
              "        }\n",
              "      </script>\n",
              "    </div>\n",
              "  </div>\n",
              "  "
            ],
            "text/plain": [
              "   probability      odds   logodds\n",
              "0         0.10  0.111111 -2.197225\n",
              "1         0.20  0.250000 -1.386294\n",
              "2         0.25  0.333333 -1.098612\n",
              "3         0.50  1.000000  0.000000\n",
              "4         0.60  1.500000  0.405465\n",
              "5         0.80  4.000000  1.386294\n",
              "6         0.90  9.000000  2.197225"
            ]
          },
          "metadata": {},
          "execution_count": 45
        }
      ],
      "source": [
        "# Add log odds to the table.\n",
        "table['logodds'] = np.log(table['odds'])\n",
        "table"
      ]
    },
    {
      "cell_type": "markdown",
      "metadata": {
        "id": "DusDShxXKrlJ"
      },
      "source": [
        "## Logistic Regression?\n",
        "---"
      ]
    },
    {
      "cell_type": "markdown",
      "metadata": {
        "id": "DMWk21hDKrlJ"
      },
      "source": [
        "Linear regression: Continuous response is modeled as a linear combination of the features.\n",
        "\n",
        "$$y = \\beta_0 + \\beta_1x$$\n",
        "\n",
        "Logistic regression: Log odds of a categorical response being \"true\" (1) is modeled as a linear combination of the features.\n",
        "\n",
        "$$\\log \\left({p\\over 1-p}\\right) = \\beta_0 + \\beta_1x$$\n",
        "\n",
        "This is called the logit function.\n",
        "\n",
        "Probability is sometimes written as pi.\n",
        "\n",
        "$$\\log \\left({\\pi\\over 1-\\pi}\\right) = \\beta_0 + \\beta_1x$$\n",
        "\n",
        "The equation can be rearranged into the logistic function.\n",
        "\n",
        "$$\\hat{p} = \\frac{e^{\\beta_0 + \\beta_1x}} {1 + e^{\\beta_0 + \\beta_1x}}$$"
      ]
    },
    {
      "cell_type": "markdown",
      "metadata": {
        "id": "VVeVTXz4KrlJ"
      },
      "source": [
        "In other words:\n",
        "\n",
        "- Logistic regression outputs the probabilities of a specific class.\n",
        "- Those probabilities can be converted into class predictions.\n",
        "\n",
        "The logistic function has some nice properties:\n",
        "\n",
        "- Takes on an \"s\" shape\n",
        "- Output is bounded by 0 and 1\n",
        "\n",
        "We have covered how this works for binary classification problems (two response classes). But what about multi-class classification problems (more than two response classes)?\n",
        "\n",
        "- The most common solution for classification models is \"one-vs-all\" (also known as \"one-vs-rest\"): Decompose the problem into multiple binary classification problems.\n",
        "- Multinomial logistic regression, on the other hand, can solve this as a single problem, but how this works is beyond the scope of this lesson."
      ]
    },
    {
      "cell_type": "markdown",
      "metadata": {
        "id": "9aO-ElK0KrlJ"
      },
      "source": [
        "<a id=\"interpreting-logistic-regression-coefficients\"></a>\n",
        "## Interpreting Logistic Regression Coefficients\n",
        "\n",
        "---\n",
        "\n",
        "Logistic regression coefficients are not as immediately interpretable as the coefficients from a linear regression. To interpret the coefficients we need to remember how the formulation for logistic regression differs from linear regression.\n",
        "\n",
        "**First let's plot our logistic regression predicted probability line again.**"
      ]
    },
    {
      "cell_type": "code",
      "execution_count": null,
      "metadata": {
        "id": "y-2rObAbKrlJ",
        "outputId": "38a446ed-f167-42bd-b825-9c19524cbbf5",
        "colab": {
          "base_uri": "https://localhost:8080/",
          "height": 315
        }
      },
      "outputs": [
        {
          "output_type": "execute_result",
          "data": {
            "text/plain": [
              "Text(0, 0.5, 'household')"
            ]
          },
          "metadata": {},
          "execution_count": 46
        },
        {
          "output_type": "display_data",
          "data": {
            "image/png": "[encoded data removed]",
            "text/plain": [
              "<Figure size 432x288 with 1 Axes>"
            ]
          },
          "metadata": {}
        }
      ],
      "source": [
        "# Plot the predicted probabilities again.\n",
        "plt.scatter(glass.al, glass.household)\n",
        "plt.plot(glass.al, glass.household_pred_prob, color='red')\n",
        "plt.xlabel('al')\n",
        "plt.ylabel('household')"
      ]
    },
    {
      "cell_type": "markdown",
      "metadata": {
        "id": "ysapMVjFKrlK"
      },
      "source": [
        "Remember:\n",
        "\n",
        "$$\\log \\left({p\\over 1-p}\\right) = \\beta_0 + \\beta_1x$$\n",
        "\n",
        "That means we'll get out the log odds if we compute the intercept plus the coefficient times a value for `al`.\n",
        "\n",
        "**Compute the log odds of `household` when `al=2`.**"
      ]
    },
    {
      "cell_type": "code",
      "execution_count": null,
      "metadata": {
        "id": "qH5Frr_LKrlK",
        "outputId": "863952db-fae4-4a62-bce7-ff5cc5d5754a",
        "colab": {
          "base_uri": "https://localhost:8080/"
        }
      },
      "outputs": [
        {
          "output_type": "execute_result",
          "data": {
            "text/plain": [
              "array([0.22101248])"
            ]
          },
          "metadata": {},
          "execution_count": 47
        }
      ],
      "source": [
        "# Compute predicted log odds for al=2 using the equation.\n",
        "logodds = logreg.intercept_ + logreg.coef_[0] * 2\n",
        "logodds"
      ]
    },
    {
      "cell_type": "markdown",
      "metadata": {
        "id": "2EZ6Fe1FKrlK"
      },
      "source": [
        "Now that we have the log odds, we will need to go through the process of converting these log odds to probability.\n",
        "\n",
        "**Convert the log odds to odds, then the odds to probability.**"
      ]
    },
    {
      "cell_type": "code",
      "execution_count": null,
      "metadata": {
        "id": "vBfmz7rLKrlK",
        "outputId": "b795fe4b-b125-4717-c0eb-f152a6369094",
        "colab": {
          "base_uri": "https://localhost:8080/"
        }
      },
      "outputs": [
        {
          "output_type": "execute_result",
          "data": {
            "text/plain": [
              "array([1.247339])"
            ]
          },
          "metadata": {},
          "execution_count": 48
        }
      ],
      "source": [
        "# Convert log odds to odds.\n",
        "odds = np.exp(logodds)\n",
        "odds"
      ]
    },
    {
      "cell_type": "code",
      "execution_count": null,
      "metadata": {
        "id": "2RBKdfJEKrlK",
        "outputId": "cc2d4e87-d43e-41f2-9e41-fe0e692989df",
        "colab": {
          "base_uri": "https://localhost:8080/"
        }
      },
      "outputs": [
        {
          "output_type": "execute_result",
          "data": {
            "text/plain": [
              "array([0.5550293])"
            ]
          },
          "metadata": {},
          "execution_count": 49
        }
      ],
      "source": [
        "# Convert odds to probability.\n",
        "prob = odds/(1 + odds)\n",
        "prob"
      ]
    },
    {
      "cell_type": "markdown",
      "metadata": {
        "id": "YWmZA5QgKrlK"
      },
      "source": [
        "This finally gives us the predicted probability of `household=1` when `al=2`. You can confirm this is the same as the value you would get out of the `.predict_proba()` method of the sklearn object."
      ]
    },
    {
      "cell_type": "code",
      "execution_count": null,
      "metadata": {
        "id": "6MxjklFtKrlK",
        "outputId": "6f15e81e-99ff-4dba-f282-571f5ee958a3",
        "colab": {
          "base_uri": "https://localhost:8080/"
        }
      },
      "outputs": [
        {
          "output_type": "stream",
          "name": "stderr",
          "text": [
            "/usr/local/lib/python3.7/dist-packages/sklearn/base.py:451: UserWarning: X does not have valid feature names, but LogisticRegression was fitted with feature names\n",
            "  \"X does not have valid feature names, but\"\n"
          ]
        },
        {
          "output_type": "execute_result",
          "data": {
            "text/plain": [
              "array([0.5550293])"
            ]
          },
          "metadata": {},
          "execution_count": 55
        }
      ],
      "source": [
        "# Compute predicted probability for al=2 using the predict_proba method.\n",
        "logreg.predict_proba([[2]])[:, 1]"
      ]
    },
    {
      "cell_type": "code",
      "execution_count": null,
      "metadata": {
        "id": "PO5PWufwKrlL",
        "outputId": "379ca37f-8468-4269-a2b6-e79c59682796",
        "colab": {
          "base_uri": "https://localhost:8080/"
        }
      },
      "outputs": [
        {
          "output_type": "execute_result",
          "data": {
            "text/plain": [
              "<zip at 0x7fefa23ba320>"
            ]
          },
          "metadata": {},
          "execution_count": 56
        }
      ],
      "source": [
        "# Examine the coefficient for al.\n",
        "zip(feature_cols, logreg.coef_[0])"
      ]
    },
    {
      "cell_type": "code",
      "execution_count": null,
      "metadata": {
        "id": "n77eReuJKrlL",
        "outputId": "89d2d522-8cf6-44be-9b95-71f053933bd3",
        "colab": {
          "base_uri": "https://localhost:8080/"
        }
      },
      "outputs": [
        {
          "output_type": "execute_result",
          "data": {
            "text/plain": [
              "array([-6.00934605])"
            ]
          },
          "metadata": {},
          "execution_count": 57
        }
      ],
      "source": [
        "# Print the intercept.\n",
        "logreg.intercept_"
      ]
    },
    {
      "cell_type": "markdown",
      "metadata": {
        "id": "ElidNa3OKrlL"
      },
      "source": [
        "**Interpretation:** A 1-unit increase in `al` is associated with a 2.01-unit increase in the log odds of `household`."
      ]
    },
    {
      "cell_type": "code",
      "execution_count": null,
      "metadata": {
        "id": "_fYQUc8eKrlL",
        "outputId": "b8357b22-b5f3-476e-b7ad-c94f13bae367",
        "colab": {
          "base_uri": "https://localhost:8080/"
        }
      },
      "outputs": [
        {
          "output_type": "execute_result",
          "data": {
            "text/plain": [
              "0.8704637704833843"
            ]
          },
          "metadata": {},
          "execution_count": 58
        }
      ],
      "source": [
        "# Increasing al by 1 (so that al=3)\n",
        "logodds = -4.12790736 + 2.0109909641729442*3\n",
        "odds = np.exp(logodds)\n",
        "prob = odds/(1 + odds)\n",
        "prob"
      ]
    },
    {
      "cell_type": "code",
      "execution_count": null,
      "metadata": {
        "id": "RdDzOldMKrlL",
        "outputId": "b0931148-3014-4526-abba-37ea9e211f80",
        "colab": {
          "base_uri": "https://localhost:8080/"
        }
      },
      "outputs": [
        {
          "output_type": "stream",
          "name": "stderr",
          "text": [
            "/usr/local/lib/python3.7/dist-packages/sklearn/base.py:451: UserWarning: X does not have valid feature names, but LogisticRegression was fitted with feature names\n",
            "  \"X does not have valid feature names, but\"\n"
          ]
        },
        {
          "output_type": "execute_result",
          "data": {
            "text/plain": [
              "array([0.96564975])"
            ]
          },
          "metadata": {},
          "execution_count": 59
        }
      ],
      "source": [
        "# Compute predicted probability for al=3 using the predict_proba method.\n",
        "logreg.predict_proba([[3]])[:, 1]"
      ]
    },
    {
      "cell_type": "markdown",
      "metadata": {
        "id": "IbVQNXHnKrlL"
      },
      "source": [
        "**Bottom line:** Positive coefficients increase the log odds of the response (and thus increase the probability), and negative coefficients decrease the log odds of the response (and thus decrease the probability)."
      ]
    },
    {
      "cell_type": "code",
      "execution_count": null,
      "metadata": {
        "id": "E0egIWQ1KrlL",
        "colab": {
          "base_uri": "https://localhost:8080/"
        },
        "outputId": "d63a167b-1ac8-40a6-d6d4-f03f1c86490d"
      },
      "outputs": [
        {
          "output_type": "execute_result",
          "data": {
            "text/plain": [
              "array([-6.00934605])"
            ]
          },
          "metadata": {},
          "execution_count": 60
        }
      ],
      "source": [
        "# Examine the intercept.\n",
        "logreg.intercept_"
      ]
    },
    {
      "cell_type": "markdown",
      "metadata": {
        "id": "am9HvixrKrlL"
      },
      "source": [
        "**Intercept interpretation:** For an `al` value of 0, the log-odds of `household` is -4.12790736."
      ]
    },
    {
      "cell_type": "code",
      "execution_count": null,
      "metadata": {
        "id": "utxzHWJBKrlM",
        "outputId": "43935f61-22ab-496d-932b-d76fe382add7",
        "colab": {
          "base_uri": "https://localhost:8080/"
        }
      },
      "outputs": [
        {
          "output_type": "execute_result",
          "data": {
            "text/plain": [
              "array([0.00244968])"
            ]
          },
          "metadata": {},
          "execution_count": 61
        }
      ],
      "source": [
        "# Convert log odds to probability.\n",
        "logodds = logreg.intercept_\n",
        "odds = np.exp(logodds)\n",
        "prob = odds/(1 + odds)\n",
        "prob"
      ]
    },
    {
      "cell_type": "markdown",
      "metadata": {
        "id": "BSVn2T1JKrlM"
      },
      "source": [
        "That makes sense from the plot above, because the probability of `household=1` should be very low for such a low `al` value."
      ]
    },
    {
      "cell_type": "markdown",
      "metadata": {
        "id": "-pMZJnLfKrlM"
      },
      "source": [
        "Logistic regression beta values"
      ]
    },
    {
      "cell_type": "markdown",
      "metadata": {
        "id": "eSGBOmT9KrlM"
      },
      "source": [
        "Changing the $\\beta_0$ value shifts the curve horizontally, whereas changing the $\\beta_1$ value changes the slope of the curve."
      ]
    },
    {
      "cell_type": "markdown",
      "metadata": {
        "id": "Pb9F8AdvKrlM"
      },
      "source": [
        "<a id=\"comparing-logistic-regression-to-other-models\"></a>\n",
        "## Comparing Logistic Regression to Other Models\n",
        "---\n",
        "\n",
        "Advantages of logistic regression:\n",
        "\n",
        "- Highly interpretable (if you remember how).\n",
        "- Model training and prediction are fast.\n",
        "- No tuning is required (excluding regularization).\n",
        "- Features don't need scaling.\n",
        "- Can perform well with a small number of observations.\n",
        "- Outputs well-calibrated predicted probabilities.\n",
        "\n",
        "Disadvantages of logistic regression:\n",
        "\n",
        "- Presumes a linear relationship between the features and the log odds of the response.\n",
        "- Performance is (generally) not competitive with the best supervised learning methods.\n",
        "- Can't automatically learn feature interactions."
      ]
    },
    {
      "cell_type": "markdown",
      "metadata": {
        "id": "bVZ94kgeKrlM"
      },
      "source": [
        "<a id=\"advanced-classification-metrics\"></a>\n",
        "## Advanced Classification Metrics\n",
        "\n",
        "---\n",
        "\n",
        "When we evaluate the performance of a logistic regression (or any classifier model), the standard metric to use is accuracy: How many class labels did we guess correctly? However, accuracy is only one of several metrics we could use when evaluating a classification model.\n",
        "\n",
        "$$Accuracy = \\frac{total~predicted~correct}{total~predicted}$$\n",
        "\n",
        "Accuracy alone doesn’t always give us a full picture.\n",
        "\n",
        "If we know a model is 75% accurate, it doesn’t provide any insight into why the 25% was wrong."
      ]
    },
    {
      "cell_type": "markdown",
      "metadata": {
        "id": "yVYcisdNKrlM"
      },
      "source": [
        "Consider a binary classification problem where we have 165 observations/rows of people who are either smokers or nonsmokers.\n",
        "\n",
        "<table style=\"border: none\">\n",
        "<tr style=\"border: none\">\n",
        "    <td style=\"border: none; vertical-align: bottom\">n = 165</td>\n",
        "    <td style=\"\"><b>Predicted: No</b></td>\n",
        "    <td style=\"\"><b>Predicted: Yes</b></td>\n",
        "</tr>\n",
        "<tr>\n",
        "    <td><b>Actual: No</b></td>\n",
        "    <td style=\"text-align: center\"></td>\n",
        "    <td style=\"text-align: center\"></td>\n",
        "    <td style=\"text-align: center\"></td>\n",
        "</tr>\n",
        "<tr>\n",
        "    <td><b>Actual: Yes</b></td>\n",
        "    <td style=\"text-align: center\"></td>\n",
        "    <td style=\"text-align: center\"></td>\n",
        "    <td style=\"text-align: center\"></td>\n",
        "</tr>\n",
        "<tr style=\"border: none\">\n",
        "    <td style=\"border: none\"></td>\n",
        "    <td style=\"text-align: center\"></td>\n",
        "    <td style=\"text-align: center\"></td>\n",
        "</tr>\n",
        "\n",
        "</table>"
      ]
    },
    {
      "cell_type": "markdown",
      "metadata": {
        "id": "9bT-Xo0wKrlM"
      },
      "source": [
        "There are 60 in class 0, nonsmokers, and 105 observations in class 1, smokers\n",
        "<table style=\"border: none\">\n",
        "<tr style=\"border: none\">\n",
        "    <td style=\"border: none; vertical-align: bottom\">n = 165</td>\n",
        "    <td style=\"\"><b>Predicted: No</b></td>\n",
        "    <td style=\"\"><b>Predicted: Yes</b></td>\n",
        "</tr>\n",
        "<tr>\n",
        "    <td><b>Actual: No</b></td>\n",
        "    <td style=\"text-align: center\"></td>\n",
        "    <td style=\"text-align: center\"></td>\n",
        "    <td style=\"text-align: center\">60</td>\n",
        "</tr>\n",
        "<tr>\n",
        "    <td><b>Actual: Yes</b></td>\n",
        "    <td style=\"text-align: center\"></td>\n",
        "    <td style=\"text-align: center\"></td>\n",
        "    <td style=\"text-align: center\">105</td>\n",
        "</tr>\n",
        "<tr style=\"border: none\">\n",
        "    <td style=\"border: none\"></td>\n",
        "    <td style=\"text-align: center\"></td>\n",
        "    <td style=\"text-align: center\"></td>\n",
        "</tr>\n",
        "\n",
        "</table>"
      ]
    },
    {
      "cell_type": "markdown",
      "metadata": {
        "id": "bTKjo1nAKrlM"
      },
      "source": [
        "We have 55 predictions of class, predicted as nonsmokers, and 110 of class 1, predicted to be smokers.\n",
        "\n",
        "<table style=\"border: none\">\n",
        "<tr style=\"border: none\">\n",
        "    <td style=\"border: none; vertical-align: bottom\">n = 165</td>\n",
        "    <td style=\"\"><b>Predicted: No</b></td>\n",
        "    <td style=\"\"><b>Predicted: Yes</b></td>\n",
        "</tr>\n",
        "<tr>\n",
        "    <td><b>Actual: No</b></td>\n",
        "    <td style=\"text-align: center\"></td>\n",
        "    <td style=\"text-align: center\"></td>\n",
        "    <td style=\"text-align: center\">60</td>\n",
        "</tr>\n",
        "<tr>\n",
        "    <td><b>Actual: Yes</b></td>\n",
        "    <td style=\"text-align: center\"></td>\n",
        "    <td style=\"text-align: center\"></td>\n",
        "    <td style=\"text-align: center\">105</td>\n",
        "</tr>\n",
        "<tr style=\"border: none\">\n",
        "    <td style=\"border: none\"></td>\n",
        "    <td style=\"text-align: center\">55</td>\n",
        "    <td style=\"text-align: center\">110</td>\n",
        "</tr>\n",
        "\n",
        "</table>"
      ]
    },
    {
      "cell_type": "markdown",
      "metadata": {
        "id": "teIwrKNoKrlN"
      },
      "source": [
        "- **True positives (TP):** These are cases in which we predicted yes (smokers), and they actually are smokers.\n",
        "- **True negatives (TN):** We predicted no, and they are nonsmokers.\n",
        "- **False positives (FP):** We predicted yes, but they were not actually smokers. (This is also known as a \"Type I error.\")\n",
        "- **False negatives (FN):** We predicted no, but they are smokers. (This is also known as a \"Type II error.\")\n",
        "<table style=\"border: none\">\n",
        "<tr style=\"border: none\">\n",
        "    <td style=\"border: none; vertical-align: bottom\">n = 165</td>\n",
        "    <td style=\"\"><b>Predicted: No</b></td>\n",
        "    <td style=\"\"><b>Predicted: Yes</b></td>\n",
        "</tr>\n",
        "<tr>\n",
        "    <td><b>Actual: No</b></td>\n",
        "    <td style=\"text-align: center\">TN = 50</td>\n",
        "    <td style=\"text-align: center\">FP = 10</td>\n",
        "    <td style=\"text-align: center\">60</td>\n",
        "</tr>\n",
        "<tr>\n",
        "    <td><b>Actual: Yes</b></td>\n",
        "    <td style=\"text-align: center\">FN = 5</td>\n",
        "    <td style=\"text-align: center\">TP = 100</td>\n",
        "    <td style=\"text-align: center\">105</td>\n",
        "</tr>\n",
        "<tr style=\"border: none\">\n",
        "    <td style=\"border: none\"></td>\n",
        "    <td style=\"text-align: center\">55</td>\n",
        "    <td style=\"text-align: center\">110</td>\n",
        "</tr>\n",
        "\n",
        "</table>"
      ]
    },
    {
      "cell_type": "markdown",
      "metadata": {
        "id": "b5WRxKznKrlN"
      },
      "source": [
        "**Categorize these as TP, TN, FP, or FN:**\n",
        "\n",
        "Try not to look at the answers above.\n",
        "    \n",
        "- We predict nonsmoker, but the person is a smoker.\n",
        "- We predict nonsmoker, and the person is a nonsmoker.\n",
        "- We predict smoker and the person is a smoker.\n",
        "- We predict smoker and the person is a nonsmoker.\n",
        "\n",
        "<!--ANSWER\n",
        "- FN\n",
        "- TN\n",
        "- TP\n",
        "- FP\n",
        "-->"
      ]
    },
    {
      "cell_type": "markdown",
      "metadata": {
        "id": "KyGdVc9iKrlN"
      },
      "source": [
        "<a id=\"accuracy-true-positive-rate-and-false-negative-rate\"></a>\n",
        "### Accuracy, True Positive Rate, and False Negative Rate"
      ]
    },
    {
      "cell_type": "markdown",
      "metadata": {
        "id": "bnu-NEhoKrlN"
      },
      "source": [
        "**Accuracy:** Overall, how often is the classifier correct?\n",
        "\n",
        "<span>\n",
        "    (<span style=\"color: green\">TP</span>+<span style=\"color: red\">TN</span>)/<span style=\"color: blue\">total</span> = (<span style=\"color: green\">100</span>+<span style=\"color: red\">50</span>)/<span style=\"color: blue\">165</span> = 0.91\n",
        "</span>\n",
        "\n",
        "<table style=\"border: none\">\n",
        "<tr style=\"border: none\">\n",
        "    <td style=\"border: none; vertical-align: bottom; color: blue\">n = 165</td>\n",
        "    <td style=\"\"><b>Predicted: No</b></td>\n",
        "    <td style=\"\"><b>Predicted: Yes</b></td>\n",
        "</tr>\n",
        "<tr>\n",
        "    <td><b>Actual: No</b></td>\n",
        "    <td style=\"text-align: center; background-color: red\">TN = 50</td>\n",
        "    <td style=\"text-align: center\">FP = 10</td>\n",
        "    <td style=\"text-align: center\">60</td>\n",
        "</tr>\n",
        "<tr>\n",
        "    <td><b>Actual: Yes</b></td>\n",
        "    <td style=\"text-align: center\">FN = 5</td>\n",
        "    <td style=\"text-align: center; background-color: green\">TP = 100</td>\n",
        "    <td style=\"text-align: center\">105</td>\n",
        "</tr>\n",
        "<tr style=\"border: none\">\n",
        "    <td style=\"border: none\"></td>\n",
        "    <td style=\"text-align: center\">55</td>\n",
        "    <td style=\"text-align: center\">110</td>\n",
        "</tr>\n",
        "\n",
        "</table>"
      ]
    },
    {
      "cell_type": "markdown",
      "metadata": {
        "id": "IWmw7jpZKrlN"
      },
      "source": [
        "**True positive rate (TPR)** asks, “Out of all of the target class labels, how many were accurately predicted to belong to that class?”\n",
        "\n",
        "For example, given a medical exam that tests for cancer, how often does it correctly identify patients with cancer?\n",
        "\n",
        "<span>\n",
        "<span style=\"color: green\">TP</span>/<span style=\"color: blue\">actual yes</span> = <span style=\"color: green\">100</span>/<span style=\"color: blue\">105</span> = 0.95\n",
        "</span>\n",
        "\n",
        "<table style=\"border: none\">\n",
        "<tr style=\"border: none\">\n",
        "    <td style=\"border: none; vertical-align: bottom\">n = 165</td>\n",
        "    <td style=\"\"><b>Predicted: No</b></td>\n",
        "    <td style=\"\"><b>Predicted: Yes</b></td>\n",
        "</tr>\n",
        "<tr>\n",
        "    <td><b>Actual: No</b></td>\n",
        "    <td style=\"text-align: center\">TN = 50</td>\n",
        "    <td style=\"text-align: center\">FP = 10</td>\n",
        "    <td style=\"text-align: center\">60</td>\n",
        "</tr>\n",
        "<tr>\n",
        "    <td><b>Actual: Yes</b></td>\n",
        "    <td style=\"text-align: center\">FN = 5</td>\n",
        "    <td style=\"text-align: center;background-color: green\">TP = 100</td>\n",
        "    <td style=\"text-align: center;color: blue\">105</td>\n",
        "</tr>\n",
        "<tr style=\"border: none\">\n",
        "    <td style=\"border: none\"></td>\n",
        "    <td style=\"text-align: center\">55</td>\n",
        "    <td style=\"text-align: center\">110</td>\n",
        "</tr>\n",
        "\n",
        "</table>"
      ]
    },
    {
      "cell_type": "markdown",
      "metadata": {
        "id": "oqWLRBPXKrlN"
      },
      "source": [
        "**False positive rate (FPR)** asks, “Out of all items not belonging to a class label, how many were predicted as belonging to that target class label?”\n",
        "\n",
        "For example, given a medical exam that tests for cancer, how often does it trigger a “false alarm” by incorrectly saying a patient has cancer?\n",
        "\n",
        "<span>\n",
        "<span style=\"color: orange\">FP</span>/<span style=\"color: blue\">actual no</span> = <span style=\"color: orange\">10</span>/<span style=\"color: blue\">60</span> = 0.17\n",
        "</span>\n",
        "\n",
        "<table style=\"border: none\">\n",
        "<tr style=\"border: none\">\n",
        "    <td style=\"border: none; vertical-align: bottom\">n = 165</td>\n",
        "    <td style=\"\"><b>Predicted: No</b></td>\n",
        "    <td style=\"\"><b>Predicted: Yes</b></td>\n",
        "</tr>\n",
        "<tr>\n",
        "    <td><b>Actual: No</b></td>\n",
        "    <td style=\"text-align: center\">TN = 50</td>\n",
        "    <td style=\"text-align: center;background-color: orange\">FP = 10</td>\n",
        "    <td style=\"text-align: center;color:blue\">60</td>\n",
        "</tr>\n",
        "<tr>\n",
        "    <td><b>Actual: Yes</b></td>\n",
        "    <td style=\"text-align: center\">FN = 5</td>\n",
        "    <td style=\"text-align: center\">TP = 100</td>\n",
        "    <td style=\"text-align: center\">105</td>\n",
        "</tr>\n",
        "<tr style=\"border: none\">\n",
        "    <td style=\"border: none\"></td>\n",
        "    <td style=\"text-align: center\">55</td>\n",
        "    <td style=\"text-align: center\">110</td>\n",
        "</tr>\n",
        "\n",
        "</table>"
      ]
    },
    {
      "cell_type": "markdown",
      "metadata": {
        "id": "3Ai2kbM3KrlN"
      },
      "source": [
        "**Can you see that we might weigh TPR AND FPR differently depending on the situation?**\n",
        "\n",
        "- Give an example when we care about TPR, but not FPR.\n",
        "- Give an example when we care about FPR, but not TPR.\n",
        "\n",
        "<!--\n",
        "ANSWER:\n",
        "- During an initial medical diagnosis, we want to be sensitive. We want initial screens to come up with a lot of true positives, even if we get a lot of false positives.\n",
        "- If we are doing spam detection, we want to be precise. Anything that we remove from an inbox must be spam, which may mean accepting fewer true positives.\n",
        "-->"
      ]
    },
    {
      "cell_type": "markdown",
      "metadata": {
        "id": "taU4iLhwKrlO"
      },
      "source": [
        "**More Trade-Offs**"
      ]
    },
    {
      "cell_type": "markdown",
      "metadata": {
        "id": "y43SGLCKKrlO"
      },
      "source": [
        "The true positive and false positive rates gives us a much clearer picture of where predictions begin to fall apart.\n",
        "\n",
        "This allows us to adjust our models accordingly.\n",
        "\n",
        "**Below we will load in some data on admissions to college.**"
      ]
    },
    {
      "cell_type": "code",
      "execution_count": null,
      "metadata": {
        "id": "UURzvVsAKrlO"
      },
      "outputs": [],
      "source": [
        "import pandas as pd\n",
        "from sklearn import linear_model, model_selection, metrics\n",
        "\n",
        "data_url = \"https://raw.githubusercontent.com/blank0043/Machine-Learning/main/data/admissions.csv\"\n",
        "admissions = pd.read_csv(data_url)\n",
        "admissions = admissions.dropna()\n",
        "# Get dummy variables for prestige.\n",
        "admissions = admissions.join(pd.get_dummies(admissions['prestige'], prefix='prestige'))"
      ]
    },
    {
      "cell_type": "markdown",
      "metadata": {
        "id": "s-YlJ3ZXKrlO"
      },
      "source": [
        "**We can predict the `admit` class from `gre` and use a train-test split to evaluate the performance of our model on a held-out test set.**"
      ]
    },
    {
      "cell_type": "code",
      "execution_count": null,
      "metadata": {
        "id": "gBc0HW9hKrlO"
      },
      "outputs": [],
      "source": [
        "X = admissions[['gre']]\n",
        "y = admissions['admit']\n",
        "X_train, X_test, y_train, y_test = model_selection.train_test_split(X, y, random_state=46)\n",
        "logit_simple = linear_model.LogisticRegression(C=1e9).fit(X_train, y_train)"
      ]
    },
    {
      "cell_type": "markdown",
      "metadata": {
        "id": "CKWw_qZhKrlO"
      },
      "source": [
        "**Recall that our \"baseline\" accuracy is the proportion of the majority class label.**"
      ]
    },
    {
      "cell_type": "code",
      "execution_count": null,
      "metadata": {
        "id": "MM10jJ7eKrlO",
        "outputId": "12ed248d-7e63-4bd6-cffd-6986506268c9",
        "colab": {
          "base_uri": "https://localhost:8080/"
        }
      },
      "outputs": [
        {
          "output_type": "execute_result",
          "data": {
            "text/plain": [
              "0.696969696969697"
            ]
          },
          "metadata": {},
          "execution_count": 18
        }
      ],
      "source": [
        "1. - y_train.mean()"
      ]
    },
    {
      "cell_type": "code",
      "execution_count": null,
      "metadata": {
        "id": "D9tRvNIrKrlO",
        "outputId": "8a1483d0-6636-409f-ea86-ad3f77302778",
        "colab": {
          "base_uri": "https://localhost:8080/"
        }
      },
      "outputs": [
        {
          "output_type": "stream",
          "name": "stdout",
          "text": [
            "0.64\n"
          ]
        }
      ],
      "source": [
        "# What is our accuracy on the test set?\n",
        "print(np.mean(y_test == logit_simple.predict(X_test)))"
      ]
    },
    {
      "cell_type": "markdown",
      "metadata": {
        "id": "AWaAL6H7KrlP"
      },
      "source": [
        "**Create a confusion matrix of predictions on our test set using `metrics.confusion_matrix`**."
      ]
    },
    {
      "cell_type": "code",
      "execution_count": null,
      "metadata": {
        "id": "Q2QlnEh5KrlP"
      },
      "outputs": [],
      "source": [
        "# Get probability predictions.\n",
        "logit_pred_proba = logit_simple.predict_proba(X_test)[:,1]"
      ]
    },
    {
      "cell_type": "code",
      "execution_count": null,
      "metadata": {
        "id": "ssUAUo9TKrlP",
        "outputId": "306331e9-3135-4607-e625-29e6bb04d629",
        "colab": {
          "base_uri": "https://localhost:8080/"
        }
      },
      "outputs": [
        {
          "output_type": "execute_result",
          "data": {
            "text/plain": [
              "array([[64,  0],\n",
              "       [36,  0]])"
            ]
          },
          "metadata": {},
          "execution_count": 21
        }
      ],
      "source": [
        "metrics.confusion_matrix(y_true=y_test, y_pred=logit_pred_proba > .5)"
      ]
    },
    {
      "cell_type": "markdown",
      "metadata": {
        "id": "wLpt8StWKrlP"
      },
      "source": [
        "A good classifier would have a true positive rate approaching 1 and a false positive rate approaching 0.\n",
        "\n",
        "In our smoking problem, this model would accurately predict all of the smokers as smokers and not accidentally predict any of the nonsmokers as smokers."
      ]
    },
    {
      "cell_type": "markdown",
      "metadata": {
        "id": "KyW9YZR2KrlP"
      },
      "source": [
        "### Trading True Positives and True Negatives"
      ]
    },
    {
      "cell_type": "markdown",
      "metadata": {
        "id": "yjxH8CigKrlP"
      },
      "source": [
        "By default, and with respect to the underlying assumptions of logistic regression, we predict a positive class when the probability of the class is greater than .5 and predict a negative class otherwise.\n",
        "\n",
        "What if we decide to use .3 as a threshold for picking the positive class? Is that even allowed?\n",
        "\n",
        "This turns out to be a useful strategy. By setting a lower probability threshold we will predict more positive classes. Which means we will predict more true positives, but fewer true negatives.\n",
        "\n",
        "Making this trade-off is important in applications that have imbalanced penalties for misclassification.\n",
        "\n",
        "The most popular example is medical diagnostics, where we want as many true positives as feasible. For example, if we are diagnosing cancer we prefer to have false positives, predict a cancer when there is no cancer, that can be later corrected with a more specific test.\n",
        "\n",
        "We do this in machine learning by setting a low threshold for predicting positives which increases the number of true positives and false positives, but allows us to balance the the costs of being correct and incorrect."
      ]
    },
    {
      "cell_type": "markdown",
      "metadata": {
        "id": "89WO85loKrlP"
      },
      "source": [
        "**We can vary the classification threshold for our model to get different predictions.**"
      ]
    },
    {
      "cell_type": "code",
      "execution_count": null,
      "metadata": {
        "id": "h6c9Zmn9KrlQ",
        "colab": {
          "base_uri": "https://localhost:8080/"
        },
        "outputId": "8bf4358b-97c6-46d8-ceb3-57c7bd8d7df1"
      },
      "outputs": [
        {
          "output_type": "execute_result",
          "data": {
            "text/plain": [
              "array([[37, 27],\n",
              "       [10, 26]])"
            ]
          },
          "metadata": {},
          "execution_count": 22
        }
      ],
      "source": [
        "metrics.confusion_matrix(y_true=y_test, y_pred=logit_pred_proba > .3)"
      ]
    },
    {
      "cell_type": "markdown",
      "metadata": {
        "id": "DBhnY8xWKrlQ"
      },
      "source": [
        "### The Accuracy Paradox\n",
        "\n",
        "Accuracy is a very intuitive metric — it's a lot like an exam score where you get total correct/total attempted. However, accuracy is often a poor metric in application. There are many reasons for this:\n",
        "- Imbalanced problems problems with 95% positives in the baseline will have 95% accuracy even with no predictive power.\n",
        "  - This is the paradox; pursuing accuracy often means predicting the most common class rather than doing the most useful work.\n",
        "- Applications often have uneven penalties and rewards for true positives and false positives.\n",
        "- Ranking predictions in the correct order be more important than getting them correct.\n",
        "- In many case we need to know the exact probability of a positives and negatives.\n",
        "  - To calculate an expected return.\n",
        "  - To triage observations that are borderline positive."
      ]
    },
    {
      "cell_type": "markdown",
      "metadata": {
        "id": "G1dV-kE5KrlQ"
      },
      "source": [
        "**Some of the most useful metrics for addressing these problems are:**\n",
        "    \n",
        "- **Classification accuracy/error**\n",
        "  - Classification accuracy is the percentage of correct predictions (higher is better).\n",
        "  - Classification error is the percentage of incorrect predictions (lower is better).\n",
        "  - Easiest classification metric to understand.\n",
        "- **Confusion matrix**\n",
        "  - Gives you a better understanding of how your classifier is performing.\n",
        "  - Allows you to calculate sensitivity, specificity, and many other metrics that might match your business objective better than accuracy.\n",
        "  - Precision and recall are good for balancing misclassification costs.\n",
        "- **ROC curves and area under a curve (AUC)**\n",
        "  - Good for ranking and prioritization problems.\n",
        "  - Allows you to visualize the performance of your classifier across all possible classification thresholds, thus helping you to choose a threshold that appropriately balances sensitivity and specificity.\n",
        "  - Still useful when there is high class imbalance (unlike classification accuracy/error).\n",
        "  - Harder to use when there are more than two response classes.\n",
        "- **Log loss**\n",
        "  - Most useful when well-calibrated predicted probabilities are important to your business objective.\n",
        "    - Expected value calculations\n",
        "    - Triage\n",
        "\n",
        "The good news is that these are readily available in Python and R, and are usually easy to calculate once you know about them."
      ]
    },
    {
      "cell_type": "code",
      "source": [
        ""
      ],
      "metadata": {
        "id": "I0Ry6Yt6qdHM"
      },
      "execution_count": null,
      "outputs": []
    }
  ],
  "metadata": {
    "kernelspec": {
      "display_name": "Python 3",
      "language": "python",
      "name": "python3"
    },
    "language_info": {
      "codemirror_mode": {
        "name": "ipython",
        "version": 3
      },
      "file_extension": ".py",
      "mimetype": "text/x-python",
      "name": "python",
      "nbconvert_exporter": "python",
      "pygments_lexer": "ipython3",
      "version": "3.7.4"
    },
    "colab": {
      "name": "Logistic Regression.ipynb",
      "provenance": [],
      "include_colab_link": true
    }
  },
  "nbformat": 4,
  "nbformat_minor": 0
}