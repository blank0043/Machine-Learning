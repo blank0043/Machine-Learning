{
  "cells": [
    {
      "cell_type": "markdown",
      "metadata": {
        "id": "view-in-github",
        "colab_type": "text"
      },
      "source": [
        "<a href=\"https://colab.research.google.com/github/blank0043/Machine-Learning/blob/main/project7_knn_with_sklearn.ipynb\" target=\"_parent\"><img src=\"https://colab.research.google.com/assets/colab-badge.svg\" alt=\"Open In Colab\"/></a>"
      ]
    },
    {
      "cell_type": "markdown",
      "metadata": {
        "id": "LWZPhWa0esq3"
      },
      "source": [
        "#  K-Nearest Neighbors with `scikit-learn`"
      ]
    },
    {
      "cell_type": "markdown",
      "metadata": {
        "id": "woq88o8NesrH"
      },
      "source": [
        "<a id=\"k-nearest-neighbors-knn-classification\"></a>\n",
        "## K-Nearest Neighbors (KNN) Classification\n",
        "---\n",
        "\n",
        "K-nearest neighbors classification is (as its name implies) a classification model that uses the \"K\" most similar observations in order to make a prediction.\n",
        "\n",
        "KNN is a supervised learning method; therefore, the training data must have known target values.\n",
        "\n",
        "The process of of prediction using KNN is fairly straightforward:\n",
        "\n",
        "1. Pick a value for K.\n",
        "2. Search for the K observations in the data that are \"nearest\" to the measurements of the unknown iris.\n",
        "    - Euclidian distance is often used as the distance metric, but other metrics are allowed.\n",
        "3. Use the most popular response value from the K \"nearest neighbors\" as the predicted response value for the unknown iris."
      ]
    },
    {
      "cell_type": "markdown",
      "metadata": {
        "id": "kUQi1UyZesrI"
      },
      "source": [
        "## Guided Intro to KNN: NBA Position KNN Classifier\n",
        "\n",
        "We will be using a dataset containing the 2015 season statistics for ~500 NBA players. This dataset leads to a nice choice of K, as we'll see below. The columns we'll use for features (and the target 'pos') are:\n",
        "\n",
        "\n",
        "| Column | Meaning |\n",
        "| ---    | ---     |\n",
        "| pos | C: Center. F: Front. G: Guard |\n",
        "| ast | Assists per game | \n",
        "| stl | Steals per game | \n",
        "| blk | Blocks per game |\n",
        "| tov | Turnovers per game | \n",
        "| pf  | Personal fouls per game | \n",
        "\n",
        "For information about the other columns, see [this glossary](https://www.basketball-reference.com/about/glossary.html)."
      ]
    },
    {
      "cell_type": "code",
      "execution_count": 2,
      "metadata": {
        "id": "fG3KNlBcesrI"
      },
      "outputs": [],
      "source": [
        "# Read the NBA data into a DataFrame.\n",
        "import pandas as pd\n",
        "\n",
        "url = 'https://raw.githubusercontent.com/blank0043/Machine-Learning/main/data/NBA_players_2015.csv'\n",
        "nba = pd.read_csv(url, index_col=0)"
      ]
    },
    {
      "cell_type": "code",
      "execution_count": 3,
      "metadata": {
        "id": "W6nYc6L2esrI"
      },
      "outputs": [],
      "source": [
        "# Map positions to numbers\n",
        "nba['pos_num'] = nba.pos.map({'C':0, 'F':1, 'G':2})"
      ]
    },
    {
      "cell_type": "code",
      "execution_count": 4,
      "metadata": {
        "id": "gLMImSn-esrJ"
      },
      "outputs": [],
      "source": [
        "# Create feature matrix (X).\n",
        "feature_cols = ['ast', 'stl', 'blk', 'tov', 'pf']\n",
        "X = nba[feature_cols]"
      ]
    },
    {
      "cell_type": "code",
      "execution_count": 5,
      "metadata": {
        "id": "-RythUotesrJ"
      },
      "outputs": [],
      "source": [
        "# Create response vector (y).\n",
        "y = nba.pos_num"
      ]
    },
    {
      "cell_type": "markdown",
      "metadata": {
        "collapsed": true,
        "id": "QVgkaiDxesrJ"
      },
      "source": [
        "<a id=\"using-the-traintest-split-procedure-k\"></a>\n",
        "### Using the Train/Test Split Procedure (K=1)"
      ]
    },
    {
      "cell_type": "code",
      "execution_count": 6,
      "metadata": {
        "id": "G2k60JdCesrJ"
      },
      "outputs": [],
      "source": [
        "from sklearn.neighbors import KNeighborsClassifier\n",
        "from sklearn.model_selection import train_test_split\n",
        "from sklearn import metrics"
      ]
    },
    {
      "cell_type": "markdown",
      "metadata": {
        "id": "PQ2DL0XaesrJ"
      },
      "source": [
        "#### Step 1: Split X and y into training and testing sets (using `random_state` for reproducibility)."
      ]
    },
    {
      "cell_type": "code",
      "execution_count": 7,
      "metadata": {
        "id": "K5vQUz4mesrJ"
      },
      "outputs": [],
      "source": [
        "X_train, X_test, y_train, y_test = train_test_split(X, y, random_state=99)"
      ]
    },
    {
      "cell_type": "markdown",
      "metadata": {
        "id": "4Q586D-MesrJ"
      },
      "source": [
        "#### Step 2: Train the model on the training set (using K=1)."
      ]
    },
    {
      "cell_type": "code",
      "execution_count": 8,
      "metadata": {
        "id": "iAkvQuO8esrK",
        "outputId": "faba534e-99d6-426b-ede9-1b43f6bea464",
        "colab": {
          "base_uri": "https://localhost:8080/"
        }
      },
      "outputs": [
        {
          "output_type": "execute_result",
          "data": {
            "text/plain": [
              "KNeighborsClassifier(n_neighbors=1)"
            ]
          },
          "metadata": {},
          "execution_count": 8
        }
      ],
      "source": [
        "knn = KNeighborsClassifier(n_neighbors=1)\n",
        "knn.fit(X_train, y_train)"
      ]
    },
    {
      "cell_type": "markdown",
      "metadata": {
        "id": "JArxUI-BesrK"
      },
      "source": [
        "#### Step 3: Test the model on the testing set and check the accuracy."
      ]
    },
    {
      "cell_type": "code",
      "execution_count": 9,
      "metadata": {
        "id": "fYv9FzE3esrK",
        "outputId": "11314f0e-0115-4007-bc57-4022192e3dcb",
        "colab": {
          "base_uri": "https://localhost:8080/"
        }
      },
      "outputs": [
        {
          "output_type": "stream",
          "name": "stdout",
          "text": [
            "0.6166666666666667\n"
          ]
        }
      ],
      "source": [
        "y_pred_class = knn.predict(X_test)\n",
        "print((metrics.accuracy_score(y_test, y_pred_class)))"
      ]
    },
    {
      "cell_type": "markdown",
      "metadata": {
        "collapsed": true,
        "id": "zJgCF1wZesrK"
      },
      "source": [
        "#### Repeating for K=50."
      ]
    },
    {
      "cell_type": "code",
      "execution_count": 10,
      "metadata": {
        "id": "485uN-_8esrK",
        "outputId": "8f09baa2-5acd-414b-fb04-bf07d0d28f9f",
        "colab": {
          "base_uri": "https://localhost:8080/"
        }
      },
      "outputs": [
        {
          "output_type": "stream",
          "name": "stdout",
          "text": [
            "0.675\n"
          ]
        }
      ],
      "source": [
        "knn = KNeighborsClassifier(n_neighbors=50)\n",
        "knn.fit(X_train, y_train)\n",
        "y_pred_class = knn.predict(X_test)\n",
        "print((metrics.accuracy_score(y_test, y_pred_class)))"
      ]
    },
    {
      "cell_type": "markdown",
      "metadata": {
        "collapsed": true,
        "id": "t3zw7rM3esrK"
      },
      "source": [
        "#### Comparing Testing Accuracy With Null Accuracy"
      ]
    },
    {
      "cell_type": "markdown",
      "metadata": {
        "collapsed": true,
        "id": "ZAU42iu7esrL"
      },
      "source": [
        "Null accuracy is the accuracy that can be achieved by **always predicting the most frequent class**. For example, if most players are Centers, we would always predict Center.\n",
        "\n",
        "The null accuracy is a benchmark against which you may want to measure every classification model."
      ]
    },
    {
      "cell_type": "markdown",
      "metadata": {
        "id": "wX4EGX3JesrL"
      },
      "source": [
        "#### Examine the class distribution from the training set.\n",
        "\n",
        "Remember that we are comparing KNN to this simpler model. So, we must find the most frequent class **of the training set**."
      ]
    },
    {
      "cell_type": "code",
      "execution_count": 11,
      "metadata": {
        "id": "hEx5Lp6iesrL",
        "outputId": "60da2877-830f-418d-dda6-38208868e224",
        "colab": {
          "base_uri": "https://localhost:8080/"
        }
      },
      "outputs": [
        {
          "output_type": "stream",
          "name": "stdout",
          "text": [
            "1    150\n",
            "2    140\n",
            "0     68\n",
            "Name: pos_num, dtype: int64\n"
          ]
        },
        {
          "output_type": "execute_result",
          "data": {
            "text/plain": [
              "1"
            ]
          },
          "metadata": {},
          "execution_count": 11
        }
      ],
      "source": [
        "most_freq_class = y_train.value_counts().index[0]\n",
        "\n",
        "print(y_train.value_counts())\n",
        "most_freq_class"
      ]
    },
    {
      "cell_type": "markdown",
      "metadata": {
        "id": "ZbfKXOmzesrL"
      },
      "source": [
        "#### Compute null accuracy."
      ]
    },
    {
      "cell_type": "code",
      "execution_count": 12,
      "metadata": {
        "id": "USyktIjWesrL",
        "outputId": "60b5c143-d6f8-447d-db17-d67e6f22007f",
        "colab": {
          "base_uri": "https://localhost:8080/"
        }
      },
      "outputs": [
        {
          "output_type": "execute_result",
          "data": {
            "text/plain": [
              "0.4083333333333333"
            ]
          },
          "metadata": {},
          "execution_count": 12
        }
      ],
      "source": [
        "y_test.value_counts()[most_freq_class] / len(y_test)"
      ]
    },
    {
      "cell_type": "markdown",
      "metadata": {
        "id": "Fu38P_tnesrL"
      },
      "source": [
        "<a id=\"tuning-a-knn-model\"></a>\n",
        "## Tuning a KNN Model\n",
        "---"
      ]
    },
    {
      "cell_type": "code",
      "execution_count": 13,
      "metadata": {
        "id": "JVFh71YeesrL"
      },
      "outputs": [],
      "source": [
        "# Instantiate the model (using the value K=5).\n",
        "knn = KNeighborsClassifier(n_neighbors=5)\n",
        "\n",
        "# Fit the model with data.\n",
        "knn.fit(X, y)\n",
        "\n",
        "# Store the predicted response values.\n",
        "y_pred_class = knn.predict(X)"
      ]
    },
    {
      "cell_type": "code",
      "execution_count": 14,
      "metadata": {
        "id": "AM-u-k80esrM",
        "outputId": "fdf47767-3dda-4023-fd28-de00072f48d3",
        "colab": {
          "base_uri": "https://localhost:8080/"
        }
      },
      "outputs": [
        {
          "output_type": "execute_result",
          "data": {
            "text/plain": [
              "array([[0. , 0.6, 0.4],\n",
              "       [0. , 0.8, 0.2],\n",
              "       [0.8, 0.2, 0. ],\n",
              "       ...,\n",
              "       [0. , 0.6, 0.4],\n",
              "       [0.6, 0.4, 0. ],\n",
              "       [0.6, 0.4, 0. ]])"
            ]
          },
          "metadata": {},
          "execution_count": 14
        }
      ],
      "source": [
        "# Calculate predicted probabilities of class membership.\n",
        "# Each row sums to one and contains the probabilities of the point being a 0-Center, 1-Front, 2-Guard.\n",
        "knn.predict_proba(X)"
      ]
    },
    {
      "cell_type": "markdown",
      "metadata": {
        "id": "i1VM_xS5esrM"
      },
      "source": [
        "<a id=\"what-happen-if-we-view-the-accuracy-of-our-training-data\"></a>\n",
        "### What Happens If We View the Accuracy of our Training Data?"
      ]
    },
    {
      "cell_type": "code",
      "execution_count": 15,
      "metadata": {
        "id": "0B0ubzBdesrM"
      },
      "outputs": [],
      "source": [
        "scores = []\n",
        "for k in range(1,100):\n",
        "    knn = KNeighborsClassifier(n_neighbors=k)\n",
        "    knn.fit(X,y)\n",
        "    pred = knn.predict(X)\n",
        "    score = float(sum(pred == y)) / len(y)\n",
        "    scores.append([k, score])"
      ]
    },
    {
      "cell_type": "code",
      "execution_count": 16,
      "metadata": {
        "id": "K7jacQLKesrM",
        "outputId": "78354f3f-6bb6-4bc2-c808-ebd480cae7a6",
        "colab": {
          "base_uri": "https://localhost:8080/",
          "height": 279
        }
      },
      "outputs": [
        {
          "output_type": "display_data",
          "data": {
            "image/png": "[encoded data removed]",
            "text/plain": [
              "<Figure size 432x288 with 1 Axes>"
            ]
          },
          "metadata": {
            "needs_background": "light"
          }
        }
      ],
      "source": [
        "data = pd.DataFrame(scores,columns=['k','score'])\n",
        "data.plot.line(x='k',y='score');"
      ]
    },
    {
      "cell_type": "markdown",
      "metadata": {
        "collapsed": true,
        "id": "LEVCJlKFesrM"
      },
      "source": [
        "#### Search for the \"best\" value of K."
      ]
    },
    {
      "cell_type": "code",
      "execution_count": 17,
      "metadata": {
        "id": "T7eHYpP5esrM"
      },
      "outputs": [],
      "source": [
        "# Calculate TRAINING ERROR and TESTING ERROR for K=1 through 100.\n",
        "\n",
        "k_range = list(range(1, 101))\n",
        "training_error = []\n",
        "testing_error = []\n",
        "\n",
        "# Find test accuracy for all values of K between 1 and 100 (inclusive).\n",
        "for k in k_range:\n",
        "\n",
        "    # Instantiate the model with the current K value.\n",
        "    knn = KNeighborsClassifier(n_neighbors=k)\n",
        "    knn.fit(X_train, y_train)\n",
        "    \n",
        "    # Calculate training error (error = 1 - accuracy).\n",
        "    y_pred_class = knn.predict(X)\n",
        "    training_accuracy = metrics.accuracy_score(y, y_pred_class)\n",
        "    training_error.append(1 - training_accuracy)\n",
        "    \n",
        "    # Calculate testing error.\n",
        "    y_pred_class = knn.predict(X_test)\n",
        "    testing_accuracy = metrics.accuracy_score(y_test, y_pred_class)\n",
        "    testing_error.append(1 - testing_accuracy)"
      ]
    },
    {
      "cell_type": "code",
      "execution_count": 18,
      "metadata": {
        "id": "lZaMEjemesrN"
      },
      "outputs": [],
      "source": [
        "# Allow plots to appear in the notebook.\n",
        "%matplotlib inline\n",
        "import matplotlib.pyplot as plt\n",
        "plt.style.use('fivethirtyeight')"
      ]
    },
    {
      "cell_type": "code",
      "execution_count": 19,
      "metadata": {
        "id": "N7FvLvgVesrN",
        "outputId": "1e922ddc-455d-4e4b-f75a-14152f8a49c2",
        "colab": {
          "base_uri": "https://localhost:8080/",
          "height": 238
        }
      },
      "outputs": [
        {
          "output_type": "execute_result",
          "data": {
            "text/html": [
              "\n",
              "  <div id=\"df-7c6c0bfa-671b-4760-a0f6-37d3526c9f00\">\n",
              "    <div class=\"colab-df-container\">\n",
              "      <div>\n",
              "<style scoped>\n",
              "    .dataframe tbody tr th:only-of-type {\n",
              "        vertical-align: middle;\n",
              "    }\n",
              "\n",
              "    .dataframe tbody tr th {\n",
              "        vertical-align: top;\n",
              "    }\n",
              "\n",
              "    .dataframe thead th {\n",
              "        text-align: right;\n",
              "    }\n",
              "</style>\n",
              "<table border=\"1\" class=\"dataframe\">\n",
              "  <thead>\n",
              "    <tr style=\"text-align: right;\">\n",
              "      <th></th>\n",
              "      <th>training error</th>\n",
              "      <th>testing error</th>\n",
              "    </tr>\n",
              "    <tr>\n",
              "      <th>K</th>\n",
              "      <th></th>\n",
              "      <th></th>\n",
              "    </tr>\n",
              "  </thead>\n",
              "  <tbody>\n",
              "    <tr>\n",
              "      <th>100</th>\n",
              "      <td>0.382845</td>\n",
              "      <td>0.366667</td>\n",
              "    </tr>\n",
              "    <tr>\n",
              "      <th>99</th>\n",
              "      <td>0.380753</td>\n",
              "      <td>0.358333</td>\n",
              "    </tr>\n",
              "    <tr>\n",
              "      <th>98</th>\n",
              "      <td>0.384937</td>\n",
              "      <td>0.366667</td>\n",
              "    </tr>\n",
              "    <tr>\n",
              "      <th>97</th>\n",
              "      <td>0.384937</td>\n",
              "      <td>0.366667</td>\n",
              "    </tr>\n",
              "    <tr>\n",
              "      <th>96</th>\n",
              "      <td>0.380753</td>\n",
              "      <td>0.366667</td>\n",
              "    </tr>\n",
              "  </tbody>\n",
              "</table>\n",
              "</div>\n",
              "      <button class=\"colab-df-convert\" onclick=\"convertToInteractive('df-7c6c0bfa-671b-4760-a0f6-37d3526c9f00')\"\n",
              "              title=\"Convert this dataframe to an interactive table.\"\n",
              "              style=\"display:none;\">\n",
              "        \n",
              "  <svg xmlns=\"http://www.w3.org/2000/svg\" height=\"24px\"viewBox=\"0 0 24 24\"\n",
              "       width=\"24px\">\n",
              "    <path d=\"M0 0h24v24H0V0z\" fill=\"none\"/>\n",
              "    <path d=\"M18.56 5.44l.94 2.06.94-2.06 2.06-.94-2.06-.94-.94-2.06-.94 2.06-2.06.94zm-11 1L8.5 8.5l.94-2.06 2.06-.94-2.06-.94L8.5 2.5l-.94 2.06-2.06.94zm10 10l.94 2.06.94-2.06 2.06-.94-2.06-.94-.94-2.06-.94 2.06-2.06.94z\"/><path d=\"M17.41 7.96l-1.37-1.37c-.4-.4-.92-.59-1.43-.59-.52 0-1.04.2-1.43.59L10.3 9.45l-7.72 7.72c-.78.78-.78 2.05 0 2.83L4 21.41c.39.39.9.59 1.41.59.51 0 1.02-.2 1.41-.59l7.78-7.78 2.81-2.81c.8-.78.8-2.07 0-2.86zM5.41 20L4 18.59l7.72-7.72 1.47 1.35L5.41 20z\"/>\n",
              "  </svg>\n",
              "      </button>\n",
              "      \n",
              "  <style>\n",
              "    .colab-df-container {\n",
              "      display:flex;\n",
              "      flex-wrap:wrap;\n",
              "      gap: 12px;\n",
              "    }\n",
              "\n",
              "    .colab-df-convert {\n",
              "      background-color: #E8F0FE;\n",
              "      border: none;\n",
              "      border-radius: 50%;\n",
              "      cursor: pointer;\n",
              "      display: none;\n",
              "      fill: #1967D2;\n",
              "      height: 32px;\n",
              "      padding: 0 0 0 0;\n",
              "      width: 32px;\n",
              "    }\n",
              "\n",
              "    .colab-df-convert:hover {\n",
              "      background-color: #E2EBFA;\n",
              "      box-shadow: 0px 1px 2px rgba(60, 64, 67, 0.3), 0px 1px 3px 1px rgba(60, 64, 67, 0.15);\n",
              "      fill: #174EA6;\n",
              "    }\n",
              "\n",
              "    [theme=dark] .colab-df-convert {\n",
              "      background-color: #3B4455;\n",
              "      fill: #D2E3FC;\n",
              "    }\n",
              "\n",
              "    [theme=dark] .colab-df-convert:hover {\n",
              "      background-color: #434B5C;\n",
              "      box-shadow: 0px 1px 3px 1px rgba(0, 0, 0, 0.15);\n",
              "      filter: drop-shadow(0px 1px 2px rgba(0, 0, 0, 0.3));\n",
              "      fill: #FFFFFF;\n",
              "    }\n",
              "  </style>\n",
              "\n",
              "      <script>\n",
              "        const buttonEl =\n",
              "          document.querySelector('#df-7c6c0bfa-671b-4760-a0f6-37d3526c9f00 button.colab-df-convert');\n",
              "        buttonEl.style.display =\n",
              "          google.colab.kernel.accessAllowed ? 'block' : 'none';\n",
              "\n",
              "        async function convertToInteractive(key) {\n",
              "          const element = document.querySelector('#df-7c6c0bfa-671b-4760-a0f6-37d3526c9f00');\n",
              "          const dataTable =\n",
              "            await google.colab.kernel.invokeFunction('convertToInteractive',\n",
              "                                                     [key], {});\n",
              "          if (!dataTable) return;\n",
              "\n",
              "          const docLinkHtml = 'Like what you see? Visit the ' +\n",
              "            '<a target=\"_blank\" href=https://colab.research.google.com/notebooks/data_table.ipynb>data table notebook</a>'\n",
              "            + ' to learn more about interactive tables.';\n",
              "          element.innerHTML = '';\n",
              "          dataTable['output_type'] = 'display_data';\n",
              "          await google.colab.output.renderOutput(dataTable, element);\n",
              "          const docLink = document.createElement('div');\n",
              "          docLink.innerHTML = docLinkHtml;\n",
              "          element.appendChild(docLink);\n",
              "        }\n",
              "      </script>\n",
              "    </div>\n",
              "  </div>\n",
              "  "
            ],
            "text/plain": [
              "     training error  testing error\n",
              "K                                 \n",
              "100        0.382845       0.366667\n",
              "99         0.380753       0.358333\n",
              "98         0.384937       0.366667\n",
              "97         0.384937       0.366667\n",
              "96         0.380753       0.366667"
            ]
          },
          "metadata": {},
          "execution_count": 19
        }
      ],
      "source": [
        "# Create a DataFrame of K, training error, and testing error.\n",
        "column_dict = {'K': k_range, 'training error':training_error, 'testing error':testing_error}\n",
        "df = pd.DataFrame(column_dict).set_index('K').sort_index(ascending=False)\n",
        "df.head()"
      ]
    },
    {
      "cell_type": "code",
      "execution_count": 20,
      "metadata": {
        "id": "_R8wbeWZesrN",
        "outputId": "fbe188a8-5abc-41fe-fc0c-fd35bec05b98",
        "colab": {
          "base_uri": "https://localhost:8080/",
          "height": 304
        }
      },
      "outputs": [
        {
          "output_type": "display_data",
          "data": {
            "image/png": "[encoded data removed]",
            "text/plain": [
              "<Figure size 432x288 with 1 Axes>"
            ]
          },
          "metadata": {}
        }
      ],
      "source": [
        "# Plot the relationship between K (HIGH TO LOW) and TESTING ERROR.\n",
        "df.plot(y='testing error');\n",
        "plt.xlabel('Value of K for KNN');\n",
        "plt.ylabel('Error (lower is better)');"
      ]
    },
    {
      "cell_type": "code",
      "execution_count": 21,
      "metadata": {
        "id": "3btZ0cJ0esrN",
        "outputId": "139ab885-a8a8-4de0-844e-dcc70d818806",
        "colab": {
          "base_uri": "https://localhost:8080/",
          "height": 238
        }
      },
      "outputs": [
        {
          "output_type": "execute_result",
          "data": {
            "text/html": [
              "\n",
              "  <div id=\"df-41052163-eeda-4d1c-b3f6-093e98f84208\">\n",
              "    <div class=\"colab-df-container\">\n",
              "      <div>\n",
              "<style scoped>\n",
              "    .dataframe tbody tr th:only-of-type {\n",
              "        vertical-align: middle;\n",
              "    }\n",
              "\n",
              "    .dataframe tbody tr th {\n",
              "        vertical-align: top;\n",
              "    }\n",
              "\n",
              "    .dataframe thead th {\n",
              "        text-align: right;\n",
              "    }\n",
              "</style>\n",
              "<table border=\"1\" class=\"dataframe\">\n",
              "  <thead>\n",
              "    <tr style=\"text-align: right;\">\n",
              "      <th></th>\n",
              "      <th>training error</th>\n",
              "      <th>testing error</th>\n",
              "    </tr>\n",
              "    <tr>\n",
              "      <th>K</th>\n",
              "      <th></th>\n",
              "      <th></th>\n",
              "    </tr>\n",
              "  </thead>\n",
              "  <tbody>\n",
              "    <tr>\n",
              "      <th>14</th>\n",
              "      <td>0.301255</td>\n",
              "      <td>0.258333</td>\n",
              "    </tr>\n",
              "    <tr>\n",
              "      <th>15</th>\n",
              "      <td>0.307531</td>\n",
              "      <td>0.258333</td>\n",
              "    </tr>\n",
              "    <tr>\n",
              "      <th>17</th>\n",
              "      <td>0.303347</td>\n",
              "      <td>0.266667</td>\n",
              "    </tr>\n",
              "    <tr>\n",
              "      <th>16</th>\n",
              "      <td>0.299163</td>\n",
              "      <td>0.266667</td>\n",
              "    </tr>\n",
              "    <tr>\n",
              "      <th>13</th>\n",
              "      <td>0.305439</td>\n",
              "      <td>0.266667</td>\n",
              "    </tr>\n",
              "  </tbody>\n",
              "</table>\n",
              "</div>\n",
              "      <button class=\"colab-df-convert\" onclick=\"convertToInteractive('df-41052163-eeda-4d1c-b3f6-093e98f84208')\"\n",
              "              title=\"Convert this dataframe to an interactive table.\"\n",
              "              style=\"display:none;\">\n",
              "        \n",
              "  <svg xmlns=\"http://www.w3.org/2000/svg\" height=\"24px\"viewBox=\"0 0 24 24\"\n",
              "       width=\"24px\">\n",
              "    <path d=\"M0 0h24v24H0V0z\" fill=\"none\"/>\n",
              "    <path d=\"M18.56 5.44l.94 2.06.94-2.06 2.06-.94-2.06-.94-.94-2.06-.94 2.06-2.06.94zm-11 1L8.5 8.5l.94-2.06 2.06-.94-2.06-.94L8.5 2.5l-.94 2.06-2.06.94zm10 10l.94 2.06.94-2.06 2.06-.94-2.06-.94-.94-2.06-.94 2.06-2.06.94z\"/><path d=\"M17.41 7.96l-1.37-1.37c-.4-.4-.92-.59-1.43-.59-.52 0-1.04.2-1.43.59L10.3 9.45l-7.72 7.72c-.78.78-.78 2.05 0 2.83L4 21.41c.39.39.9.59 1.41.59.51 0 1.02-.2 1.41-.59l7.78-7.78 2.81-2.81c.8-.78.8-2.07 0-2.86zM5.41 20L4 18.59l7.72-7.72 1.47 1.35L5.41 20z\"/>\n",
              "  </svg>\n",
              "      </button>\n",
              "      \n",
              "  <style>\n",
              "    .colab-df-container {\n",
              "      display:flex;\n",
              "      flex-wrap:wrap;\n",
              "      gap: 12px;\n",
              "    }\n",
              "\n",
              "    .colab-df-convert {\n",
              "      background-color: #E8F0FE;\n",
              "      border: none;\n",
              "      border-radius: 50%;\n",
              "      cursor: pointer;\n",
              "      display: none;\n",
              "      fill: #1967D2;\n",
              "      height: 32px;\n",
              "      padding: 0 0 0 0;\n",
              "      width: 32px;\n",
              "    }\n",
              "\n",
              "    .colab-df-convert:hover {\n",
              "      background-color: #E2EBFA;\n",
              "      box-shadow: 0px 1px 2px rgba(60, 64, 67, 0.3), 0px 1px 3px 1px rgba(60, 64, 67, 0.15);\n",
              "      fill: #174EA6;\n",
              "    }\n",
              "\n",
              "    [theme=dark] .colab-df-convert {\n",
              "      background-color: #3B4455;\n",
              "      fill: #D2E3FC;\n",
              "    }\n",
              "\n",
              "    [theme=dark] .colab-df-convert:hover {\n",
              "      background-color: #434B5C;\n",
              "      box-shadow: 0px 1px 3px 1px rgba(0, 0, 0, 0.15);\n",
              "      filter: drop-shadow(0px 1px 2px rgba(0, 0, 0, 0.3));\n",
              "      fill: #FFFFFF;\n",
              "    }\n",
              "  </style>\n",
              "\n",
              "      <script>\n",
              "        const buttonEl =\n",
              "          document.querySelector('#df-41052163-eeda-4d1c-b3f6-093e98f84208 button.colab-df-convert');\n",
              "        buttonEl.style.display =\n",
              "          google.colab.kernel.accessAllowed ? 'block' : 'none';\n",
              "\n",
              "        async function convertToInteractive(key) {\n",
              "          const element = document.querySelector('#df-41052163-eeda-4d1c-b3f6-093e98f84208');\n",
              "          const dataTable =\n",
              "            await google.colab.kernel.invokeFunction('convertToInteractive',\n",
              "                                                     [key], {});\n",
              "          if (!dataTable) return;\n",
              "\n",
              "          const docLinkHtml = 'Like what you see? Visit the ' +\n",
              "            '<a target=\"_blank\" href=https://colab.research.google.com/notebooks/data_table.ipynb>data table notebook</a>'\n",
              "            + ' to learn more about interactive tables.';\n",
              "          element.innerHTML = '';\n",
              "          dataTable['output_type'] = 'display_data';\n",
              "          await google.colab.output.renderOutput(dataTable, element);\n",
              "          const docLink = document.createElement('div');\n",
              "          docLink.innerHTML = docLinkHtml;\n",
              "          element.appendChild(docLink);\n",
              "        }\n",
              "      </script>\n",
              "    </div>\n",
              "  </div>\n",
              "  "
            ],
            "text/plain": [
              "    training error  testing error\n",
              "K                                \n",
              "14        0.301255       0.258333\n",
              "15        0.307531       0.258333\n",
              "17        0.303347       0.266667\n",
              "16        0.299163       0.266667\n",
              "13        0.305439       0.266667"
            ]
          },
          "metadata": {},
          "execution_count": 21
        }
      ],
      "source": [
        "# Find the minimum testing error and the associated K value.\n",
        "df.sort_values('testing error').head()"
      ]
    },
    {
      "cell_type": "code",
      "execution_count": 22,
      "metadata": {
        "id": "g4EA0D1nesrN",
        "outputId": "91d24293-2ec4-43be-c385-28eeb477745e",
        "colab": {
          "base_uri": "https://localhost:8080/"
        }
      },
      "outputs": [
        {
          "output_type": "execute_result",
          "data": {
            "text/plain": [
              "(0.2583333333333333, 14)"
            ]
          },
          "metadata": {},
          "execution_count": 22
        }
      ],
      "source": [
        "# Alternative method:\n",
        "min(list(zip(testing_error, k_range)))"
      ]
    },
    {
      "cell_type": "markdown",
      "metadata": {
        "id": "LKxpZC8CesrN"
      },
      "source": [
        "<a id=\"training-error-versus-testing-error\"></a>\n",
        "### Training Error Versus Testing Error"
      ]
    },
    {
      "cell_type": "code",
      "execution_count": 23,
      "metadata": {
        "id": "5WX8nNbjesrN",
        "outputId": "09dd1203-8dd7-468b-b6ac-f560ee6677c4",
        "colab": {
          "base_uri": "https://localhost:8080/",
          "height": 304
        }
      },
      "outputs": [
        {
          "output_type": "display_data",
          "data": {
            "image/png": "[encoded data removed]",
            "text/plain": [
              "<Figure size 432x288 with 1 Axes>"
            ]
          },
          "metadata": {}
        }
      ],
      "source": [
        "# Plot the relationship between K (HIGH TO LOW) and both TRAINING ERROR and TESTING ERROR.\n",
        "df.plot();\n",
        "plt.xlabel('Value of K for KNN');\n",
        "plt.ylabel('Error (lower is better)');"
      ]
    },
    {
      "cell_type": "markdown",
      "metadata": {
        "id": "6Imur7m3esrO"
      },
      "source": [
        "- **Training error** decreases as model complexity increases (lower value of K).\n",
        "- **Testing error** is minimized at the optimum model complexity.\n",
        "\n",
        "Evaluating the training and testing error is important. For example:\n",
        "\n",
        "- If the training error is much lower than the test error, then our model is likely overfitting. \n",
        "- If the test error starts increasing as we vary a hyperparameter, we may be overfitting.\n",
        "- If either error plateaus, our model is likely underfitting (not complex enough)."
      ]
    },
    {
      "cell_type": "markdown",
      "metadata": {
        "collapsed": true,
        "id": "iu5_ztCGesrO"
      },
      "source": [
        "#### Making Predictions on Out-of-Sample Data"
      ]
    },
    {
      "cell_type": "markdown",
      "metadata": {
        "collapsed": true,
        "id": "XfiVyUMeesrO"
      },
      "source": [
        "Given the statistics of a (truly) unknown NBA player, how do we predict his position?"
      ]
    },
    {
      "cell_type": "code",
      "execution_count": 24,
      "metadata": {
        "id": "bgDqPVtdesrO",
        "outputId": "9cf2a3db-3f65-41f2-ceba-448de5d7f46e",
        "colab": {
          "base_uri": "https://localhost:8080/"
        }
      },
      "outputs": [
        {
          "output_type": "stream",
          "name": "stderr",
          "text": [
            "/usr/local/lib/python3.7/dist-packages/sklearn/base.py:451: UserWarning: X does not have valid feature names, but KNeighborsClassifier was fitted with feature names\n",
            "  \"X does not have valid feature names, but\"\n"
          ]
        },
        {
          "output_type": "execute_result",
          "data": {
            "text/plain": [
              "array([2])"
            ]
          },
          "metadata": {},
          "execution_count": 24
        }
      ],
      "source": [
        "import numpy as np\n",
        "\n",
        "# Instantiate the model with the best-known parameters.\n",
        "knn = KNeighborsClassifier(n_neighbors=14)\n",
        "\n",
        "# Re-train the model with X and y (not X_train and y_train). Why?\n",
        "knn.fit(X, y)\n",
        "\n",
        "# Make a prediction for an out-of-sample observation.\n",
        "knn.predict(np.array([2, 1, 0, 1, 2]).reshape(1, -1))"
      ]
    },
    {
      "cell_type": "markdown",
      "metadata": {
        "collapsed": true,
        "id": "fAyYbkgTesrO"
      },
      "source": [
        "What could we conclude?\n",
        "\n",
        "- When using KNN on this data set with these features, the **best value for K** is likely to be around 14.\n",
        "- Given the statistics of an **unknown player**, we estimate that we would be able to correctly predict his position about 74% of the time."
      ]
    },
    {
      "cell_type": "markdown",
      "metadata": {
        "id": "-irJ-NV5esrO"
      },
      "source": [
        "<a id=\"standardizing-features\"></a>\n",
        "## Standardizing Features\n",
        "---\n",
        "\n",
        "There is one major issue that applies to many machine learning models: They are sensitive to feature scale. \n",
        "\n",
        "> KNN in particular is sensitive to feature scale because it (by default) uses the Euclidean distance metric. To determine closeness, Euclidean distance sums the square difference along each axis. So, if one axis has large differences and another has small differences, the former axis will contribute much more to the distance than the latter axis.\n",
        "\n",
        "This means that it matters whether our feature are centered around zero and have similar variance to each other."
      ]
    },
    {
      "cell_type": "markdown",
      "metadata": {
        "id": "WtRX0deLesrP"
      },
      "source": [
        "Unfortunately, most data does not naturally start at a mean of zero and a shared variance. Other models tend to struggle with scale as well, even linear regression, when you get into more advanced methods such as regularization."
      ]
    },
    {
      "cell_type": "markdown",
      "metadata": {
        "id": "y9smISY8esrP"
      },
      "source": [
        "Fortuantely, this is an easy fix."
      ]
    },
    {
      "cell_type": "markdown",
      "metadata": {
        "id": "EJNwhdCKesrP"
      },
      "source": [
        "<a id=\"use-standardscaler-to-standardize-our-data\"></a>\n",
        "### Use `StandardScaler` to Standardize our Data\n",
        "\n",
        "StandardScaler standardizes our data by subtracting the mean from each feature and dividing by its standard deviation."
      ]
    },
    {
      "cell_type": "markdown",
      "metadata": {
        "id": "r4y7VmCAesrP"
      },
      "source": [
        "#### Separate feature matrix and response for scikit-learn."
      ]
    },
    {
      "cell_type": "code",
      "execution_count": 25,
      "metadata": {
        "collapsed": true,
        "id": "AuwUE5_EesrP"
      },
      "outputs": [],
      "source": [
        "# Create feature matrix (X).\n",
        "feature_cols = ['ast', 'stl', 'blk', 'tov', 'pf']\n",
        "\n",
        "X = nba[feature_cols]\n",
        "y = nba.pos_num  # Create response vector (y)."
      ]
    },
    {
      "cell_type": "markdown",
      "metadata": {
        "id": "FBypE629esrP"
      },
      "source": [
        "#### Create the train/test split.\n",
        "\n",
        "Notice that we create the train/test split first. This is because we will reveal information about our testing data if we standardize right away."
      ]
    },
    {
      "cell_type": "code",
      "execution_count": 26,
      "metadata": {
        "collapsed": true,
        "id": "IZOaO6Y6esrP"
      },
      "outputs": [],
      "source": [
        "X_train, X_test, y_train, y_test = train_test_split(X, y, random_state=99)"
      ]
    },
    {
      "cell_type": "markdown",
      "metadata": {
        "collapsed": true,
        "id": "x9OXSturesrQ"
      },
      "source": [
        "#### Instantiate and fit `StandardScaler`."
      ]
    },
    {
      "cell_type": "code",
      "execution_count": 27,
      "metadata": {
        "collapsed": true,
        "id": "U7hG0JglesrQ"
      },
      "outputs": [],
      "source": [
        "from sklearn.preprocessing import StandardScaler\n",
        "\n",
        "scaler = StandardScaler()\n",
        "X_train = scaler.fit_transform(X_train)\n",
        "X_test = scaler.transform(X_test)"
      ]
    },
    {
      "cell_type": "markdown",
      "metadata": {
        "id": "gRoCedQgesrQ"
      },
      "source": [
        "#### Fit a KNN model and look at the testing error.\n",
        "Can you find a number of neighbors that improves our results from before?"
      ]
    },
    {
      "cell_type": "code",
      "execution_count": 28,
      "metadata": {
        "id": "5np1EM6YesrQ",
        "outputId": "4181e517-c732-481a-9a4c-d76ca6ce0a97",
        "colab": {
          "base_uri": "https://localhost:8080/"
        }
      },
      "outputs": [
        {
          "output_type": "stream",
          "name": "stdout",
          "text": [
            "0.30833333333333335\n"
          ]
        }
      ],
      "source": [
        "# Calculate testing error.\n",
        "knn = KNeighborsClassifier(n_neighbors=11)\n",
        "knn.fit(X_train, y_train)\n",
        "\n",
        "y_pred_class = knn.predict(X_test)\n",
        "testing_accuracy = metrics.accuracy_score(y_test, y_pred_class)\n",
        "testing_error = 1 - testing_accuracy\n",
        "\n",
        "print(testing_error)"
      ]
    },
    {
      "cell_type": "markdown",
      "metadata": {
        "id": "JF0xsWxZesrQ"
      },
      "source": [
        "<a id=\"comparing-knn-with-other-models\"></a>\n",
        "## Comparing KNN With Other Models\n",
        "---"
      ]
    },
    {
      "cell_type": "markdown",
      "metadata": {
        "id": "jUjBhehWesrQ"
      },
      "source": [
        "**Advantages of KNN:**\n",
        "\n",
        "- It's simple to understand and explain.\n",
        "- Model training is fast.\n",
        "- It can be used for classification and regression (for regression, take the average value of the K nearest points!).\n",
        "- Being a non-parametric method, it is often successful in classification situations where the decision boundary is very irregular.\n",
        "\n",
        "**Disadvantages of KNN:**\n",
        "\n",
        "- It must store all of the training data.\n",
        "- Its prediction phase can be slow when n is large.\n",
        "- It is sensitive to irrelevant features.\n",
        "- It is sensitive to the scale of the data.\n",
        "- Accuracy is (generally) not competitive with the best supervised learning methods."
      ]
    }
  ],
  "metadata": {
    "kernelspec": {
      "display_name": "Python 3",
      "language": "python",
      "name": "python3"
    },
    "language_info": {
      "codemirror_mode": {
        "name": "ipython",
        "version": 3
      },
      "file_extension": ".py",
      "mimetype": "text/x-python",
      "name": "python",
      "nbconvert_exporter": "python",
      "pygments_lexer": "ipython3",
      "version": "3.7.4"
    },
    "colab": {
      "name": "project7_knn_with_sklearn.ipynb",
      "provenance": [],
      "include_colab_link": true
    }
  },
  "nbformat": 4,
  "nbformat_minor": 0
}